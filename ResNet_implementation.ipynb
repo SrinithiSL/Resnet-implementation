{
  "cells": [
    {
      "cell_type": "markdown",
      "source": [
        "##Resnet- implementation "
      ],
      "metadata": {
        "id": "i11GKVrHr0xs"
      }
    },
    {
      "cell_type": "code",
      "execution_count": 1,
      "metadata": {
        "id": "DEeB3WRjj1y-"
      },
      "outputs": [],
      "source": [
        "import torch\n",
        "import torch.nn as nn\n",
        "import torchvision\n",
        "import torchvision.transforms as transforms\n",
        "from torchsummary import summary\n",
        "from torch.utils.data import random_split, DataLoader\n",
        "import matplotlib.pyplot as plt\n",
        "import numpy as np"
      ]
    },
    {
      "cell_type": "markdown",
      "source": [
        "##Resnet"
      ],
      "metadata": {
        "id": "eao9JEToswJH"
      }
    },
    {
      "cell_type": "code",
      "execution_count": 2,
      "metadata": {
        "id": "_3qn5iaBkIZd"
      },
      "outputs": [],
      "source": [
        "def conv3x3(in_channels, out_channels, stride=1):\n",
        "    return nn.Conv2d(in_channels, out_channels, kernel_size=3, stride=stride, padding=1, bias=False)"
      ]
    },
    {
      "cell_type": "code",
      "execution_count": 3,
      "metadata": {
        "id": "vN943JXpkQAb"
      },
      "outputs": [],
      "source": [
        "class Block(nn.Module):\n",
        "    def __init__(self, input_channels, output_channels, stride=1, downsample=None):\n",
        "        super(Block, self).__init__()\n",
        "        self.conv1 = conv3x3(input_channels, output_channels, stride)\n",
        "        self.bn1 = nn.BatchNorm2d(output_channels)\n",
        "        self.relu = nn.ReLU(inplace=True)\n",
        "        self.conv2 = conv3x3(output_channels, output_channels)\n",
        "        self.bn2 = nn.BatchNorm2d(output_channels)\n",
        "        self.downsample = downsample\n",
        "\n",
        "    def forward(self, x):\n",
        "        residual = x\n",
        "        output = self.conv1(x)\n",
        "        output = self.bn1(output)\n",
        "        output = self.relu(output)\n",
        "        output = self.conv2(output)\n",
        "        output = self.bn2(output)\n",
        "        if self.downsample:\n",
        "            residual = self.downsample(x)\n",
        "        output += residual\n",
        "        output = self.relu(output)\n",
        "        return output"
      ]
    },
    {
      "cell_type": "code",
      "execution_count": 4,
      "metadata": {
        "id": "d6Ovl1iFkZZN"
      },
      "outputs": [],
      "source": [
        "class Resnet(nn.Module):\n",
        "    def __init__(self, block, layers, num_classes=10):\n",
        "        super(Resnet, self).__init__()\n",
        "        self.input_channels = 16\n",
        "        self.conv = conv3x3(3, 16)\n",
        "        self.bn = nn.BatchNorm2d(16)\n",
        "        self.relu = nn.ReLU(inplace=True)\n",
        "        self.layer1 = self.make_layer(block, 16, layers[0])\n",
        "        self.layer2 = self.make_layer(block, 32, layers[1], 2)\n",
        "        self.layer3 = self.make_layer(block, 64, layers[2], 2)\n",
        "        self.avg_pool = nn.AvgPool2d(8)\n",
        "        self.fc = nn.Linear(64, num_classes)\n",
        "\n",
        "    def make_layer(self, block, output_channels, blocks, stride=1):\n",
        "        downsample = None\n",
        "        if (stride != 1) or (self.input_channels != output_channels):\n",
        "           downsample = nn.Sequential(conv3x3(self.input_channels, output_channels, stride=stride),nn.BatchNorm2d(output_channels))\n",
        "        layers = []\n",
        "        layers.append(block(self.input_channels, output_channels, stride, downsample))\n",
        "        self.input_channels = output_channels\n",
        "        for i in range(1, blocks):\n",
        "            layers.append(block(output_channels, output_channels))\n",
        "        return nn.Sequential(*layers)\n",
        "\n",
        "    def forward(self, x):\n",
        "        output = self.conv(x)\n",
        "        output = self.bn(output)\n",
        "        output = self.relu(output)\n",
        "        output = self.layer1(output)\n",
        "        output = self.layer2(output)\n",
        "        output = self.layer3(output)\n",
        "        output = self.avg_pool(output)\n",
        "        output = output.view(output.size(0), -1)\n",
        "        output = self.fc(output)\n",
        "        return output\n"
      ]
    },
    {
      "cell_type": "markdown",
      "source": [
        "###Data preprocessing"
      ],
      "metadata": {
        "id": "-4EBMC9IsUbO"
      }
    },
    {
      "cell_type": "code",
      "execution_count": 5,
      "metadata": {
        "id": "XohcslTfl7Tb"
      },
      "outputs": [],
      "source": [
        "device = torch.device('cuda' if torch.cuda.is_available() else 'cpu')"
      ]
    },
    {
      "cell_type": "code",
      "execution_count": 6,
      "metadata": {
        "id": "2B37mg1wmAty"
      },
      "outputs": [],
      "source": [
        "transform = transforms.Compose([transforms.Pad(4),transforms.RandomHorizontalFlip(),transforms.RandomCrop(32),transforms.ToTensor()])"
      ]
    },
    {
      "cell_type": "code",
      "execution_count": 7,
      "metadata": {
        "colab": {
          "base_uri": "https://localhost:8080/",
          "height": 84,
          "referenced_widgets": [
            "2a400ae91d8140ec9862fd957bf7356f",
            "1e9c655ed0a64bec915ddf03fda6ab39",
            "5f8bdf363e5645b98867b6c7c9401bf9",
            "2e1101602bee4909a773771d3b657a65",
            "815a56022e4941ebba980020a9975591",
            "73b0979a72d249fa91089071209d4d5b",
            "364b4cc2565d4368a0247e1800d921a7",
            "d457d29ddd4b4c998ff32b2845a9687b",
            "41b118fd45ab4d3780a0c2b5f9b7906e",
            "5f6fdbf034834faab5083003f55db5b1",
            "dfe2ed68b3b24d9f91c44eabeb9bdf7b"
          ]
        },
        "id": "dYhQXkLTmcuf",
        "outputId": "051d960c-ff84-491c-f3f8-c6097640d48e"
      },
      "outputs": [
        {
          "output_type": "stream",
          "name": "stdout",
          "text": [
            "Downloading https://www.cs.toronto.edu/~kriz/cifar-10-python.tar.gz to ../../data/cifar-10-python.tar.gz\n"
          ]
        },
        {
          "output_type": "display_data",
          "data": {
            "text/plain": [
              "  0%|          | 0/170498071 [00:00<?, ?it/s]"
            ],
            "application/vnd.jupyter.widget-view+json": {
              "version_major": 2,
              "version_minor": 0,
              "model_id": "2a400ae91d8140ec9862fd957bf7356f"
            }
          },
          "metadata": {}
        },
        {
          "output_type": "stream",
          "name": "stdout",
          "text": [
            "Extracting ../../data/cifar-10-python.tar.gz to ../../data/\n"
          ]
        }
      ],
      "source": [
        "train_dataset = torchvision.datasets.CIFAR10(root='../../data/', train=True, transform=transform,download=True)\n",
        "\n",
        "test_dataset = torchvision.datasets.CIFAR10(root='../../data/',train=False, transform=transforms.ToTensor())"
      ]
    },
    {
      "cell_type": "code",
      "execution_count": 8,
      "metadata": {
        "id": "2vvL3g9ynFT7"
      },
      "outputs": [],
      "source": [
        "train_dataset, val_dataset= random_split(train_dataset,(45000,5000))"
      ]
    },
    {
      "cell_type": "code",
      "execution_count": 9,
      "metadata": {
        "id": "T-OLB9lDo21q"
      },
      "outputs": [],
      "source": [
        "train_loader = DataLoader(dataset=train_dataset,batch_size=100, shuffle=True)\n",
        "val_loader = DataLoader(dataset=val_dataset,batch_size=100, shuffle=True) \n",
        "test_loader = DataLoader(dataset=test_dataset,batch_size=100, shuffle=False)"
      ]
    },
    {
      "cell_type": "code",
      "execution_count": 10,
      "metadata": {
        "id": "zaFLc_J-pFB7"
      },
      "outputs": [],
      "source": [
        "epochs = 80\n",
        "learning_rate = 0.001"
      ]
    },
    {
      "cell_type": "code",
      "execution_count": 11,
      "metadata": {
        "colab": {
          "base_uri": "https://localhost:8080/"
        },
        "id": "8kDSVJHqqtjo",
        "outputId": "3b9c5e4f-f158-4690-8d62-6ddeca0280db"
      },
      "outputs": [
        {
          "output_type": "stream",
          "name": "stdout",
          "text": [
            "image shape (3, 32, 32)\n"
          ]
        }
      ],
      "source": [
        "print(\"image shape {}\".format(train_dataset[0][0].numpy().shape))"
      ]
    },
    {
      "cell_type": "code",
      "execution_count": 12,
      "metadata": {
        "colab": {
          "base_uri": "https://localhost:8080/"
        },
        "id": "ay1z6Ljor5Ot",
        "outputId": "525705d2-335e-448e-a36e-912bc0cc4c21"
      },
      "outputs": [
        {
          "output_type": "stream",
          "name": "stdout",
          "text": [
            "training data: 45000 images\n",
            "validation data: 5000 images\n",
            "test data: 10000 images\n"
          ]
        }
      ],
      "source": [
        "print(\"training data: {} images\".format(len(train_dataset)))\n",
        "print(\"validation data: {} images\".format(len(val_dataset)))\n",
        "print(\"test data: {} images\".format(len(test_dataset)))"
      ]
    },
    {
      "cell_type": "code",
      "execution_count": 13,
      "metadata": {
        "id": "aHMu0ex2sFjc"
      },
      "outputs": [],
      "source": [
        "model = Resnet(Block, [2, 2, 2]).to(device)"
      ]
    },
    {
      "cell_type": "code",
      "execution_count": 14,
      "metadata": {
        "colab": {
          "base_uri": "https://localhost:8080/"
        },
        "id": "mUJta-v6sv8C",
        "outputId": "22ecd1b1-ac87-4a89-f943-90a215298a8b"
      },
      "outputs": [
        {
          "output_type": "stream",
          "name": "stdout",
          "text": [
            "----------------------------------------------------------------\n",
            "        Layer (type)               Output Shape         Param #\n",
            "================================================================\n",
            "            Conv2d-1           [-1, 16, 32, 32]             432\n",
            "       BatchNorm2d-2           [-1, 16, 32, 32]              32\n",
            "              ReLU-3           [-1, 16, 32, 32]               0\n",
            "            Conv2d-4           [-1, 16, 32, 32]           2,304\n",
            "       BatchNorm2d-5           [-1, 16, 32, 32]              32\n",
            "              ReLU-6           [-1, 16, 32, 32]               0\n",
            "            Conv2d-7           [-1, 16, 32, 32]           2,304\n",
            "       BatchNorm2d-8           [-1, 16, 32, 32]              32\n",
            "              ReLU-9           [-1, 16, 32, 32]               0\n",
            "            Block-10           [-1, 16, 32, 32]               0\n",
            "           Conv2d-11           [-1, 16, 32, 32]           2,304\n",
            "      BatchNorm2d-12           [-1, 16, 32, 32]              32\n",
            "             ReLU-13           [-1, 16, 32, 32]               0\n",
            "           Conv2d-14           [-1, 16, 32, 32]           2,304\n",
            "      BatchNorm2d-15           [-1, 16, 32, 32]              32\n",
            "             ReLU-16           [-1, 16, 32, 32]               0\n",
            "            Block-17           [-1, 16, 32, 32]               0\n",
            "           Conv2d-18           [-1, 32, 16, 16]           4,608\n",
            "      BatchNorm2d-19           [-1, 32, 16, 16]              64\n",
            "             ReLU-20           [-1, 32, 16, 16]               0\n",
            "           Conv2d-21           [-1, 32, 16, 16]           9,216\n",
            "      BatchNorm2d-22           [-1, 32, 16, 16]              64\n",
            "           Conv2d-23           [-1, 32, 16, 16]           4,608\n",
            "      BatchNorm2d-24           [-1, 32, 16, 16]              64\n",
            "             ReLU-25           [-1, 32, 16, 16]               0\n",
            "            Block-26           [-1, 32, 16, 16]               0\n",
            "           Conv2d-27           [-1, 32, 16, 16]           9,216\n",
            "      BatchNorm2d-28           [-1, 32, 16, 16]              64\n",
            "             ReLU-29           [-1, 32, 16, 16]               0\n",
            "           Conv2d-30           [-1, 32, 16, 16]           9,216\n",
            "      BatchNorm2d-31           [-1, 32, 16, 16]              64\n",
            "             ReLU-32           [-1, 32, 16, 16]               0\n",
            "            Block-33           [-1, 32, 16, 16]               0\n",
            "           Conv2d-34             [-1, 64, 8, 8]          18,432\n",
            "      BatchNorm2d-35             [-1, 64, 8, 8]             128\n",
            "             ReLU-36             [-1, 64, 8, 8]               0\n",
            "           Conv2d-37             [-1, 64, 8, 8]          36,864\n",
            "      BatchNorm2d-38             [-1, 64, 8, 8]             128\n",
            "           Conv2d-39             [-1, 64, 8, 8]          18,432\n",
            "      BatchNorm2d-40             [-1, 64, 8, 8]             128\n",
            "             ReLU-41             [-1, 64, 8, 8]               0\n",
            "            Block-42             [-1, 64, 8, 8]               0\n",
            "           Conv2d-43             [-1, 64, 8, 8]          36,864\n",
            "      BatchNorm2d-44             [-1, 64, 8, 8]             128\n",
            "             ReLU-45             [-1, 64, 8, 8]               0\n",
            "           Conv2d-46             [-1, 64, 8, 8]          36,864\n",
            "      BatchNorm2d-47             [-1, 64, 8, 8]             128\n",
            "             ReLU-48             [-1, 64, 8, 8]               0\n",
            "            Block-49             [-1, 64, 8, 8]               0\n",
            "        AvgPool2d-50             [-1, 64, 1, 1]               0\n",
            "           Linear-51                   [-1, 10]             650\n",
            "================================================================\n",
            "Total params: 195,738\n",
            "Trainable params: 195,738\n",
            "Non-trainable params: 0\n",
            "----------------------------------------------------------------\n",
            "Input size (MB): 0.01\n",
            "Forward/backward pass size (MB): 3.63\n",
            "Params size (MB): 0.75\n",
            "Estimated Total Size (MB): 4.38\n",
            "----------------------------------------------------------------\n"
          ]
        }
      ],
      "source": [
        "summary(model,(3, 32, 32))"
      ]
    },
    {
      "cell_type": "markdown",
      "source": [
        "###Training the model"
      ],
      "metadata": {
        "id": "kSMwHi4nsgwo"
      }
    },
    {
      "cell_type": "code",
      "execution_count": 15,
      "metadata": {
        "id": "OlTZ-DnGtDc4"
      },
      "outputs": [],
      "source": [
        "criterion = nn.CrossEntropyLoss()\n",
        "optimizer = torch.optim.Adam(model.parameters(), lr=learning_rate)"
      ]
    },
    {
      "cell_type": "code",
      "execution_count": 16,
      "metadata": {
        "id": "Kn-nUipOvJdn"
      },
      "outputs": [],
      "source": [
        "def update_lr(optimizer, lr):    \n",
        "    for param_grp in optimizer.param_groups:\n",
        "        param_grp['lr'] = lr"
      ]
    },
    {
      "cell_type": "code",
      "execution_count": 17,
      "metadata": {
        "colab": {
          "base_uri": "https://localhost:8080/"
        },
        "id": "8L-vaXasvUTw",
        "outputId": "c79e4b87-f77b-4a56-bce5-7983034fac47"
      },
      "outputs": [
        {
          "output_type": "stream",
          "name": "stdout",
          "text": [
            "Epoch [1/80],  train_epoch_Loss: 1.4883, val_epoch_loss: 1.3247, train_accuracy: 0.4476, val_accuracy: 0.4986\n",
            "Epoch [2/80],  train_epoch_Loss: 1.7930, val_epoch_loss: 1.4880, train_accuracy: 0.3366, val_accuracy: 0.4576\n",
            "Epoch [3/80],  train_epoch_Loss: 1.2708, val_epoch_loss: 1.1124, train_accuracy: 0.5420, val_accuracy: 0.6002\n",
            "Epoch [4/80],  train_epoch_Loss: 1.1037, val_epoch_loss: 1.0440, train_accuracy: 0.6019, val_accuracy: 0.6200\n",
            "Epoch [5/80],  train_epoch_Loss: 1.0152, val_epoch_loss: 0.9550, train_accuracy: 0.6390, val_accuracy: 0.6540\n",
            "Epoch [6/80],  train_epoch_Loss: 0.9472, val_epoch_loss: 0.9592, train_accuracy: 0.6639, val_accuracy: 0.6582\n",
            "Epoch [7/80],  train_epoch_Loss: 0.8887, val_epoch_loss: 0.8940, train_accuracy: 0.6823, val_accuracy: 0.6766\n",
            "Epoch [8/80],  train_epoch_Loss: 0.8373, val_epoch_loss: 0.8586, train_accuracy: 0.7029, val_accuracy: 0.6896\n",
            "Epoch [9/80],  train_epoch_Loss: 0.7849, val_epoch_loss: 0.7528, train_accuracy: 0.7232, val_accuracy: 0.7370\n",
            "Epoch [10/80],  train_epoch_Loss: 0.7508, val_epoch_loss: 0.7390, train_accuracy: 0.7378, val_accuracy: 0.7416\n",
            "Epoch [11/80],  train_epoch_Loss: 0.7083, val_epoch_loss: 0.7285, train_accuracy: 0.7523, val_accuracy: 0.7396\n",
            "Epoch [12/80],  train_epoch_Loss: 0.6781, val_epoch_loss: 0.6545, train_accuracy: 0.7632, val_accuracy: 0.7698\n",
            "Epoch [13/80],  train_epoch_Loss: 0.6470, val_epoch_loss: 0.6583, train_accuracy: 0.7756, val_accuracy: 0.7596\n",
            "Epoch [14/80],  train_epoch_Loss: 0.6224, val_epoch_loss: 0.6450, train_accuracy: 0.7846, val_accuracy: 0.7732\n",
            "Epoch [15/80],  train_epoch_Loss: 0.5955, val_epoch_loss: 0.6391, train_accuracy: 0.7924, val_accuracy: 0.7794\n",
            "Epoch [16/80],  train_epoch_Loss: 0.5765, val_epoch_loss: 0.6038, train_accuracy: 0.8004, val_accuracy: 0.7862\n",
            "Epoch [17/80],  train_epoch_Loss: 0.5595, val_epoch_loss: 0.6105, train_accuracy: 0.8062, val_accuracy: 0.7836\n",
            "Epoch [18/80],  train_epoch_Loss: 0.5298, val_epoch_loss: 0.6284, train_accuracy: 0.8153, val_accuracy: 0.7882\n",
            "Epoch [19/80],  train_epoch_Loss: 0.5276, val_epoch_loss: 0.6261, train_accuracy: 0.8151, val_accuracy: 0.7918\n",
            "Epoch [20/80],  train_epoch_Loss: 0.5133, val_epoch_loss: 0.5848, train_accuracy: 0.8209, val_accuracy: 0.7960\n",
            "Epoch [21/80],  train_epoch_Loss: 0.4287, val_epoch_loss: 0.5172, train_accuracy: 0.8516, val_accuracy: 0.8204\n",
            "Epoch [22/80],  train_epoch_Loss: 0.4144, val_epoch_loss: 0.4853, train_accuracy: 0.8566, val_accuracy: 0.8280\n",
            "Epoch [23/80],  train_epoch_Loss: 0.4034, val_epoch_loss: 0.5112, train_accuracy: 0.8591, val_accuracy: 0.8212\n",
            "Epoch [24/80],  train_epoch_Loss: 0.3989, val_epoch_loss: 0.5201, train_accuracy: 0.8614, val_accuracy: 0.8206\n",
            "Epoch [25/80],  train_epoch_Loss: 0.3885, val_epoch_loss: 0.4949, train_accuracy: 0.8656, val_accuracy: 0.8308\n",
            "Epoch [26/80],  train_epoch_Loss: 0.3833, val_epoch_loss: 0.5004, train_accuracy: 0.8663, val_accuracy: 0.8270\n",
            "Epoch [27/80],  train_epoch_Loss: 0.3747, val_epoch_loss: 0.5002, train_accuracy: 0.8686, val_accuracy: 0.8234\n",
            "Epoch [28/80],  train_epoch_Loss: 0.3725, val_epoch_loss: 0.4859, train_accuracy: 0.8687, val_accuracy: 0.8392\n",
            "Epoch [29/80],  train_epoch_Loss: 0.3649, val_epoch_loss: 0.4945, train_accuracy: 0.8724, val_accuracy: 0.8292\n",
            "Epoch [30/80],  train_epoch_Loss: 0.3623, val_epoch_loss: 0.4846, train_accuracy: 0.8734, val_accuracy: 0.8332\n",
            "Epoch [31/80],  train_epoch_Loss: 0.3544, val_epoch_loss: 0.4960, train_accuracy: 0.8753, val_accuracy: 0.8256\n",
            "Epoch [32/80],  train_epoch_Loss: 0.3478, val_epoch_loss: 0.4843, train_accuracy: 0.8766, val_accuracy: 0.8384\n",
            "Epoch [33/80],  train_epoch_Loss: 0.3452, val_epoch_loss: 0.4828, train_accuracy: 0.8788, val_accuracy: 0.8294\n",
            "Epoch [34/80],  train_epoch_Loss: 0.3388, val_epoch_loss: 0.4832, train_accuracy: 0.8807, val_accuracy: 0.8316\n",
            "Epoch [35/80],  train_epoch_Loss: 0.3383, val_epoch_loss: 0.4909, train_accuracy: 0.8808, val_accuracy: 0.8364\n",
            "Epoch [36/80],  train_epoch_Loss: 0.3262, val_epoch_loss: 0.5077, train_accuracy: 0.8849, val_accuracy: 0.8274\n",
            "Epoch [37/80],  train_epoch_Loss: 0.3285, val_epoch_loss: 0.4738, train_accuracy: 0.8828, val_accuracy: 0.8406\n",
            "Epoch [38/80],  train_epoch_Loss: 0.3222, val_epoch_loss: 0.4796, train_accuracy: 0.8876, val_accuracy: 0.8378\n",
            "Epoch [39/80],  train_epoch_Loss: 0.3195, val_epoch_loss: 0.4900, train_accuracy: 0.8879, val_accuracy: 0.8370\n",
            "Epoch [40/80],  train_epoch_Loss: 0.3122, val_epoch_loss: 0.4818, train_accuracy: 0.8907, val_accuracy: 0.8386\n",
            "Epoch [41/80],  train_epoch_Loss: 0.2790, val_epoch_loss: 0.4620, train_accuracy: 0.9005, val_accuracy: 0.8448\n",
            "Epoch [42/80],  train_epoch_Loss: 0.2722, val_epoch_loss: 0.4569, train_accuracy: 0.9043, val_accuracy: 0.8504\n",
            "Epoch [43/80],  train_epoch_Loss: 0.2654, val_epoch_loss: 0.4699, train_accuracy: 0.9070, val_accuracy: 0.8454\n",
            "Epoch [44/80],  train_epoch_Loss: 0.2654, val_epoch_loss: 0.4754, train_accuracy: 0.9067, val_accuracy: 0.8506\n",
            "Epoch [45/80],  train_epoch_Loss: 0.2652, val_epoch_loss: 0.4534, train_accuracy: 0.9066, val_accuracy: 0.8500\n",
            "Epoch [46/80],  train_epoch_Loss: 0.2603, val_epoch_loss: 0.4554, train_accuracy: 0.9080, val_accuracy: 0.8490\n",
            "Epoch [47/80],  train_epoch_Loss: 0.2605, val_epoch_loss: 0.4717, train_accuracy: 0.9092, val_accuracy: 0.8490\n",
            "Epoch [48/80],  train_epoch_Loss: 0.2559, val_epoch_loss: 0.4681, train_accuracy: 0.9093, val_accuracy: 0.8516\n",
            "Epoch [49/80],  train_epoch_Loss: 0.2543, val_epoch_loss: 0.4651, train_accuracy: 0.9101, val_accuracy: 0.8538\n",
            "Epoch [50/80],  train_epoch_Loss: 0.2515, val_epoch_loss: 0.4621, train_accuracy: 0.9112, val_accuracy: 0.8468\n",
            "Epoch [51/80],  train_epoch_Loss: 0.2456, val_epoch_loss: 0.4794, train_accuracy: 0.9126, val_accuracy: 0.8436\n",
            "Epoch [52/80],  train_epoch_Loss: 0.2471, val_epoch_loss: 0.4779, train_accuracy: 0.9123, val_accuracy: 0.8522\n",
            "Epoch [53/80],  train_epoch_Loss: 0.2444, val_epoch_loss: 0.4594, train_accuracy: 0.9123, val_accuracy: 0.8556\n",
            "Epoch [54/80],  train_epoch_Loss: 0.2478, val_epoch_loss: 0.4669, train_accuracy: 0.9118, val_accuracy: 0.8432\n",
            "Epoch [55/80],  train_epoch_Loss: 0.2409, val_epoch_loss: 0.4628, train_accuracy: 0.9140, val_accuracy: 0.8490\n",
            "Epoch [56/80],  train_epoch_Loss: 0.2389, val_epoch_loss: 0.4749, train_accuracy: 0.9152, val_accuracy: 0.8506\n",
            "Epoch [57/80],  train_epoch_Loss: 0.2373, val_epoch_loss: 0.4797, train_accuracy: 0.9165, val_accuracy: 0.8498\n",
            "Epoch [58/80],  train_epoch_Loss: 0.2404, val_epoch_loss: 0.4759, train_accuracy: 0.9154, val_accuracy: 0.8476\n",
            "Epoch [59/80],  train_epoch_Loss: 0.2359, val_epoch_loss: 0.4758, train_accuracy: 0.9162, val_accuracy: 0.8516\n",
            "Epoch [60/80],  train_epoch_Loss: 0.2363, val_epoch_loss: 0.4841, train_accuracy: 0.9166, val_accuracy: 0.8502\n",
            "Epoch [61/80],  train_epoch_Loss: 0.2197, val_epoch_loss: 0.4811, train_accuracy: 0.9219, val_accuracy: 0.8494\n",
            "Epoch [62/80],  train_epoch_Loss: 0.2201, val_epoch_loss: 0.4783, train_accuracy: 0.9219, val_accuracy: 0.8518\n",
            "Epoch [63/80],  train_epoch_Loss: 0.2202, val_epoch_loss: 0.4770, train_accuracy: 0.9212, val_accuracy: 0.8482\n",
            "Epoch [64/80],  train_epoch_Loss: 0.2162, val_epoch_loss: 0.4722, train_accuracy: 0.9231, val_accuracy: 0.8474\n",
            "Epoch [65/80],  train_epoch_Loss: 0.2152, val_epoch_loss: 0.4722, train_accuracy: 0.9230, val_accuracy: 0.8538\n",
            "Epoch [66/80],  train_epoch_Loss: 0.2185, val_epoch_loss: 0.4881, train_accuracy: 0.9222, val_accuracy: 0.8516\n",
            "Epoch [67/80],  train_epoch_Loss: 0.2147, val_epoch_loss: 0.4826, train_accuracy: 0.9228, val_accuracy: 0.8520\n",
            "Epoch [68/80],  train_epoch_Loss: 0.2165, val_epoch_loss: 0.4701, train_accuracy: 0.9234, val_accuracy: 0.8564\n",
            "Epoch [69/80],  train_epoch_Loss: 0.2125, val_epoch_loss: 0.4719, train_accuracy: 0.9250, val_accuracy: 0.8508\n",
            "Epoch [70/80],  train_epoch_Loss: 0.2101, val_epoch_loss: 0.4795, train_accuracy: 0.9251, val_accuracy: 0.8566\n",
            "Epoch [71/80],  train_epoch_Loss: 0.2118, val_epoch_loss: 0.4859, train_accuracy: 0.9251, val_accuracy: 0.8460\n",
            "Epoch [72/80],  train_epoch_Loss: 0.2103, val_epoch_loss: 0.4745, train_accuracy: 0.9253, val_accuracy: 0.8518\n",
            "Epoch [73/80],  train_epoch_Loss: 0.2121, val_epoch_loss: 0.4793, train_accuracy: 0.9248, val_accuracy: 0.8484\n",
            "Epoch [74/80],  train_epoch_Loss: 0.2100, val_epoch_loss: 0.4814, train_accuracy: 0.9250, val_accuracy: 0.8500\n",
            "Epoch [75/80],  train_epoch_Loss: 0.2076, val_epoch_loss: 0.4704, train_accuracy: 0.9261, val_accuracy: 0.8582\n",
            "Epoch [76/80],  train_epoch_Loss: 0.2067, val_epoch_loss: 0.4755, train_accuracy: 0.9261, val_accuracy: 0.8570\n",
            "Epoch [77/80],  train_epoch_Loss: 0.2073, val_epoch_loss: 0.4940, train_accuracy: 0.9256, val_accuracy: 0.8458\n",
            "Epoch [78/80],  train_epoch_Loss: 0.2105, val_epoch_loss: 0.4927, train_accuracy: 0.9244, val_accuracy: 0.8484\n",
            "Epoch [79/80],  train_epoch_Loss: 0.2068, val_epoch_loss: 0.4682, train_accuracy: 0.9263, val_accuracy: 0.8542\n",
            "Epoch [80/80],  train_epoch_Loss: 0.2060, val_epoch_loss: 0.4888, train_accuracy: 0.9268, val_accuracy: 0.8508\n"
          ]
        }
      ],
      "source": [
        "total_step = len(train_loader)\n",
        "current_lr = learning_rate\n",
        "train_costs,val_costs=[],[]\n",
        "for epoch in range(epochs):\n",
        "    train_correct=0\n",
        "    train_running_loss=0\n",
        "    for i, (images, labels) in enumerate(train_loader):\n",
        "        images = images.to(device)\n",
        "        labels = labels.to(device)\n",
        "\n",
        "        # Forward pass\n",
        "        outputs = model(images)\n",
        "        loss = criterion(outputs, labels)\n",
        "\n",
        "        # Backward and optimize\n",
        "        optimizer.zero_grad()\n",
        "        loss.backward()\n",
        "        optimizer.step()\n",
        "\n",
        "\n",
        "        _, predicted = torch.max(outputs.data, 1)\n",
        "        train_correct += (predicted==labels).float().sum().item()\n",
        "        train_running_loss +=(loss.data.item()*images.shape[0])\n",
        "\n",
        "     # Decay learning rate\n",
        "    if (epoch+1) % 20 == 0:\n",
        "        current_lr /= 3\n",
        "        update_lr(optimizer, current_lr)\n",
        "      \n",
        "\n",
        "    train_epoch_loss= train_running_loss/len(train_dataset)\n",
        "    train_costs.append(train_epoch_loss)\n",
        "    train_accuracy=train_correct/len(train_dataset)\n",
        "\n",
        "    val_correct=0\n",
        "    val_running_loss=0\n",
        "    model.eval()\n",
        "    with torch.no_grad():\n",
        "        for i, (images, labels) in enumerate(val_loader):\n",
        "          images = images.to(device)\n",
        "          labels = labels.to(device)\n",
        "\n",
        "        # Forward pass\n",
        "          outputs = model(images)\n",
        "          loss = criterion(outputs, labels)\n",
        "\n",
        "\n",
        "          _, predicted = torch.max(outputs.data, 1)\n",
        "          val_correct += (predicted==labels).float().sum().item()\n",
        "          val_running_loss +=(loss.data.item()*images.shape[0])\n",
        "\n",
        "   \n",
        "\n",
        "        val_epoch_loss= val_running_loss/len(val_dataset)\n",
        "        val_costs.append(val_epoch_loss)\n",
        "        val_accuracy=val_correct/len(val_dataset)\n",
        "\n",
        "\n",
        "\n",
        "\n",
        "    \n",
        "    print (\"Epoch [{}/{}],  train_epoch_Loss: {:.4f}, val_epoch_loss: {:.4f}, train_accuracy: {:.4f}, val_accuracy: {:.4f}\".format(epoch+1, epochs, train_epoch_loss,val_epoch_loss,train_accuracy,val_accuracy ))\n",
        "\n",
        "    "
      ]
    },
    {
      "cell_type": "code",
      "execution_count": 18,
      "metadata": {
        "id": "E_o1b4D_XD1m"
      },
      "outputs": [],
      "source": [
        "torch.save(model.state_dict(), 'resnet.ckpt')"
      ]
    },
    {
      "cell_type": "code",
      "execution_count": 19,
      "metadata": {
        "id": "sMLIzctCCGy5",
        "colab": {
          "base_uri": "https://localhost:8080/",
          "height": 350
        },
        "outputId": "9489d8b4-c235-4139-b4f4-8e425d24f92b"
      },
      "outputs": [
        {
          "output_type": "display_data",
          "data": {
            "text/plain": [
              "<Figure size 720x360 with 1 Axes>"
            ],
            "image/png": "[encoded data removed]"
          },
          "metadata": {
            "needs_background": "light"
          }
        }
      ],
      "source": [
        "plt.figure(figsize=(10,5))\n",
        "plt.title(\"Training and Validation Loss\")\n",
        "plt.plot(val_costs,label=\"val\")\n",
        "plt.plot(train_costs,label=\"train\")\n",
        "plt.xlabel(\"iterations\")\n",
        "plt.ylabel(\"Loss\")\n",
        "plt.legend()\n",
        "plt.show()"
      ]
    },
    {
      "cell_type": "markdown",
      "source": [
        "##Testing the model"
      ],
      "metadata": {
        "id": "U2nyT-YespCn"
      }
    },
    {
      "cell_type": "code",
      "execution_count": 20,
      "metadata": {
        "id": "neDVD2dFxomv",
        "colab": {
          "base_uri": "https://localhost:8080/"
        },
        "outputId": "32216eaf-0410-48a6-bdd6-0e879198b1aa"
      },
      "outputs": [
        {
          "output_type": "stream",
          "name": "stdout",
          "text": [
            "Accuracy of the model on the test images: 85.41 %\n"
          ]
        }
      ],
      "source": [
        "model.eval()\n",
        "with torch.no_grad():\n",
        "    correct = 0\n",
        "    total = 0\n",
        "    for images, labels in test_loader:\n",
        "        images = images.to(device)\n",
        "        labels = labels.to(device)\n",
        "        outputs = model(images)\n",
        "        _, predicted = torch.max(outputs.data, 1)\n",
        "        total += labels.size(0)\n",
        "        correct += (predicted == labels).sum().item()\n",
        "    print('Accuracy of the model on the test images: {} %'.format(100 * correct / total))"
      ]
    }
  ],
  "metadata": {
    "accelerator": "GPU",
    "colab": {
      "provenance": []
    },
    "kernelspec": {
      "display_name": "Python 3",
      "name": "python3"
    },
    "language_info": {
      "name": "python"
    },
    "widgets": {
      "application/vnd.jupyter.widget-state+json": {
        "2a400ae91d8140ec9862fd957bf7356f": {
          "model_module": "@jupyter-widgets/controls",
          "model_name": "HBoxModel",
          "model_module_version": "1.5.0",
          "state": {
            "_dom_classes": [],
            "_model_module": "@jupyter-widgets/controls",
            "_model_module_version": "1.5.0",
            "_model_name": "HBoxModel",
            "_view_count": null,
            "_view_module": "@jupyter-widgets/controls",
            "_view_module_version": "1.5.0",
            "_view_name": "HBoxView",
            "box_style": "",
            "children": [
              "IPY_MODEL_1e9c655ed0a64bec915ddf03fda6ab39",
              "IPY_MODEL_5f8bdf363e5645b98867b6c7c9401bf9",
              "IPY_MODEL_2e1101602bee4909a773771d3b657a65"
            ],
            "layout": "IPY_MODEL_815a56022e4941ebba980020a9975591"
          }
        },
        "1e9c655ed0a64bec915ddf03fda6ab39": {
          "model_module": "@jupyter-widgets/controls",
          "model_name": "HTMLModel",
          "model_module_version": "1.5.0",
          "state": {
            "_dom_classes": [],
            "_model_module": "@jupyter-widgets/controls",
            "_model_module_version": "1.5.0",
            "_model_name": "HTMLModel",
            "_view_count": null,
            "_view_module": "@jupyter-widgets/controls",
            "_view_module_version": "1.5.0",
            "_view_name": "HTMLView",
            "description": "",
            "description_tooltip": null,
            "layout": "IPY_MODEL_73b0979a72d249fa91089071209d4d5b",
            "placeholder": "​",
            "style": "IPY_MODEL_364b4cc2565d4368a0247e1800d921a7",
            "value": "100%"
          }
        },
        "5f8bdf363e5645b98867b6c7c9401bf9": {
          "model_module": "@jupyter-widgets/controls",
          "model_name": "FloatProgressModel",
          "model_module_version": "1.5.0",
          "state": {
            "_dom_classes": [],
            "_model_module": "@jupyter-widgets/controls",
            "_model_module_version": "1.5.0",
            "_model_name": "FloatProgressModel",
            "_view_count": null,
            "_view_module": "@jupyter-widgets/controls",
            "_view_module_version": "1.5.0",
            "_view_name": "ProgressView",
            "bar_style": "success",
            "description": "",
            "description_tooltip": null,
            "layout": "IPY_MODEL_d457d29ddd4b4c998ff32b2845a9687b",
            "max": 170498071,
            "min": 0,
            "orientation": "horizontal",
            "style": "IPY_MODEL_41b118fd45ab4d3780a0c2b5f9b7906e",
            "value": 170498071
          }
        },
        "2e1101602bee4909a773771d3b657a65": {
          "model_module": "@jupyter-widgets/controls",
          "model_name": "HTMLModel",
          "model_module_version": "1.5.0",
          "state": {
            "_dom_classes": [],
            "_model_module": "@jupyter-widgets/controls",
            "_model_module_version": "1.5.0",
            "_model_name": "HTMLModel",
            "_view_count": null,
            "_view_module": "@jupyter-widgets/controls",
            "_view_module_version": "1.5.0",
            "_view_name": "HTMLView",
            "description": "",
            "description_tooltip": null,
            "layout": "IPY_MODEL_5f6fdbf034834faab5083003f55db5b1",
            "placeholder": "​",
            "style": "IPY_MODEL_dfe2ed68b3b24d9f91c44eabeb9bdf7b",
            "value": " 170498071/170498071 [00:14&lt;00:00, 13291084.34it/s]"
          }
        },
        "815a56022e4941ebba980020a9975591": {
          "model_module": "@jupyter-widgets/base",
          "model_name": "LayoutModel",
          "model_module_version": "1.2.0",
          "state": {
            "_model_module": "@jupyter-widgets/base",
            "_model_module_version": "1.2.0",
            "_model_name": "LayoutModel",
            "_view_count": null,
            "_view_module": "@jupyter-widgets/base",
            "_view_module_version": "1.2.0",
            "_view_name": "LayoutView",
            "align_content": null,
            "align_items": null,
            "align_self": null,
            "border": null,
            "bottom": null,
            "display": null,
            "flex": null,
            "flex_flow": null,
            "grid_area": null,
            "grid_auto_columns": null,
            "grid_auto_flow": null,
            "grid_auto_rows": null,
            "grid_column": null,
            "grid_gap": null,
            "grid_row": null,
            "grid_template_areas": null,
            "grid_template_columns": null,
            "grid_template_rows": null,
            "height": null,
            "justify_content": null,
            "justify_items": null,
            "left": null,
            "margin": null,
            "max_height": null,
            "max_width": null,
            "min_height": null,
            "min_width": null,
            "object_fit": null,
            "object_position": null,
            "order": null,
            "overflow": null,
            "overflow_x": null,
            "overflow_y": null,
            "padding": null,
            "right": null,
            "top": null,
            "visibility": null,
            "width": null
          }
        },
        "73b0979a72d249fa91089071209d4d5b": {
          "model_module": "@jupyter-widgets/base",
          "model_name": "LayoutModel",
          "model_module_version": "1.2.0",
          "state": {
            "_model_module": "@jupyter-widgets/base",
            "_model_module_version": "1.2.0",
            "_model_name": "LayoutModel",
            "_view_count": null,
            "_view_module": "@jupyter-widgets/base",
            "_view_module_version": "1.2.0",
            "_view_name": "LayoutView",
            "align_content": null,
            "align_items": null,
            "align_self": null,
            "border": null,
            "bottom": null,
            "display": null,
            "flex": null,
            "flex_flow": null,
            "grid_area": null,
            "grid_auto_columns": null,
            "grid_auto_flow": null,
            "grid_auto_rows": null,
            "grid_column": null,
            "grid_gap": null,
            "grid_row": null,
            "grid_template_areas": null,
            "grid_template_columns": null,
            "grid_template_rows": null,
            "height": null,
            "justify_content": null,
            "justify_items": null,
            "left": null,
            "margin": null,
            "max_height": null,
            "max_width": null,
            "min_height": null,
            "min_width": null,
            "object_fit": null,
            "object_position": null,
            "order": null,
            "overflow": null,
            "overflow_x": null,
            "overflow_y": null,
            "padding": null,
            "right": null,
            "top": null,
            "visibility": null,
            "width": null
          }
        },
        "364b4cc2565d4368a0247e1800d921a7": {
          "model_module": "@jupyter-widgets/controls",
          "model_name": "DescriptionStyleModel",
          "model_module_version": "1.5.0",
          "state": {
            "_model_module": "@jupyter-widgets/controls",
            "_model_module_version": "1.5.0",
            "_model_name": "DescriptionStyleModel",
            "_view_count": null,
            "_view_module": "@jupyter-widgets/base",
            "_view_module_version": "1.2.0",
            "_view_name": "StyleView",
            "description_width": ""
          }
        },
        "d457d29ddd4b4c998ff32b2845a9687b": {
          "model_module": "@jupyter-widgets/base",
          "model_name": "LayoutModel",
          "model_module_version": "1.2.0",
          "state": {
            "_model_module": "@jupyter-widgets/base",
            "_model_module_version": "1.2.0",
            "_model_name": "LayoutModel",
            "_view_count": null,
            "_view_module": "@jupyter-widgets/base",
            "_view_module_version": "1.2.0",
            "_view_name": "LayoutView",
            "align_content": null,
            "align_items": null,
            "align_self": null,
            "border": null,
            "bottom": null,
            "display": null,
            "flex": null,
            "flex_flow": null,
            "grid_area": null,
            "grid_auto_columns": null,
            "grid_auto_flow": null,
            "grid_auto_rows": null,
            "grid_column": null,
            "grid_gap": null,
            "grid_row": null,
            "grid_template_areas": null,
            "grid_template_columns": null,
            "grid_template_rows": null,
            "height": null,
            "justify_content": null,
            "justify_items": null,
            "left": null,
            "margin": null,
            "max_height": null,
            "max_width": null,
            "min_height": null,
            "min_width": null,
            "object_fit": null,
            "object_position": null,
            "order": null,
            "overflow": null,
            "overflow_x": null,
            "overflow_y": null,
            "padding": null,
            "right": null,
            "top": null,
            "visibility": null,
            "width": null
          }
        },
        "41b118fd45ab4d3780a0c2b5f9b7906e": {
          "model_module": "@jupyter-widgets/controls",
          "model_name": "ProgressStyleModel",
          "model_module_version": "1.5.0",
          "state": {
            "_model_module": "@jupyter-widgets/controls",
            "_model_module_version": "1.5.0",
            "_model_name": "ProgressStyleModel",
            "_view_count": null,
            "_view_module": "@jupyter-widgets/base",
            "_view_module_version": "1.2.0",
            "_view_name": "StyleView",
            "bar_color": null,
            "description_width": ""
          }
        },
        "5f6fdbf034834faab5083003f55db5b1": {
          "model_module": "@jupyter-widgets/base",
          "model_name": "LayoutModel",
          "model_module_version": "1.2.0",
          "state": {
            "_model_module": "@jupyter-widgets/base",
            "_model_module_version": "1.2.0",
            "_model_name": "LayoutModel",
            "_view_count": null,
            "_view_module": "@jupyter-widgets/base",
            "_view_module_version": "1.2.0",
            "_view_name": "LayoutView",
            "align_content": null,
            "align_items": null,
            "align_self": null,
            "border": null,
            "bottom": null,
            "display": null,
            "flex": null,
            "flex_flow": null,
            "grid_area": null,
            "grid_auto_columns": null,
            "grid_auto_flow": null,
            "grid_auto_rows": null,
            "grid_column": null,
            "grid_gap": null,
            "grid_row": null,
            "grid_template_areas": null,
            "grid_template_columns": null,
            "grid_template_rows": null,
            "height": null,
            "justify_content": null,
            "justify_items": null,
            "left": null,
            "margin": null,
            "max_height": null,
            "max_width": null,
            "min_height": null,
            "min_width": null,
            "object_fit": null,
            "object_position": null,
            "order": null,
            "overflow": null,
            "overflow_x": null,
            "overflow_y": null,
            "padding": null,
            "right": null,
            "top": null,
            "visibility": null,
            "width": null
          }
        },
        "dfe2ed68b3b24d9f91c44eabeb9bdf7b": {
          "model_module": "@jupyter-widgets/controls",
          "model_name": "DescriptionStyleModel",
          "model_module_version": "1.5.0",
          "state": {
            "_model_module": "@jupyter-widgets/controls",
            "_model_module_version": "1.5.0",
            "_model_name": "DescriptionStyleModel",
            "_view_count": null,
            "_view_module": "@jupyter-widgets/base",
            "_view_module_version": "1.2.0",
            "_view_name": "StyleView",
            "description_width": ""
          }
        }
      }
    }
  },
  "nbformat": 4,
  "nbformat_minor": 0
}