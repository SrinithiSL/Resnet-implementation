{
  "cells": [
    {
      "cell_type": "markdown",
      "source": [
        "##Resnet- implementation "
      ],
      "metadata": {
        "id": "i11GKVrHr0xs"
      }
    },
    {
      "cell_type": "code",
      "execution_count": 1,
      "metadata": {
        "id": "DEeB3WRjj1y-"
      },
      "outputs": [],
      "source": [
        "import torch\n",
        "import torch.nn as nn\n",
        "import torchvision\n",
        "import torchvision.transforms as transforms\n",
        "from torchsummary import summary\n",
        "from torch.utils.data import random_split, DataLoader\n",
        "import matplotlib.pyplot as plt\n",
        "import numpy as np"
      ]
    },
    {
      "cell_type": "markdown",
      "source": [
        "##Resnet"
      ],
      "metadata": {
        "id": "eao9JEToswJH"
      }
    },
    {
      "cell_type": "code",
      "execution_count": 2,
      "metadata": {
        "id": "_3qn5iaBkIZd"
      },
      "outputs": [],
      "source": [
        "def conv3x3(in_channels, out_channels, stride=1):\n",
        "    return nn.Conv2d(in_channels, out_channels, kernel_size=3, stride=stride, padding=1, bias=False)"
      ]
    },
    {
      "cell_type": "code",
      "execution_count": 3,
      "metadata": {
        "id": "vN943JXpkQAb"
      },
      "outputs": [],
      "source": [
        "class Block(nn.Module):\n",
        "    def __init__(self, input_channels, output_channels, stride=1, downsample=None):\n",
        "        super(Block, self).__init__()\n",
        "        self.conv1 = conv3x3(input_channels, output_channels, stride)\n",
        "        self.bn1 = nn.BatchNorm2d(output_channels)\n",
        "        self.relu = nn.ReLU(inplace=True)\n",
        "        self.conv2 = conv3x3(output_channels, output_channels)\n",
        "        self.bn2 = nn.BatchNorm2d(output_channels)\n",
        "        self.downsample = downsample\n",
        "\n",
        "    def forward(self, x):\n",
        "        residual = x\n",
        "        output = self.conv1(x)\n",
        "        output = self.bn1(output)\n",
        "        output = self.relu(output)\n",
        "        output = self.conv2(output)\n",
        "        output = self.bn2(output)\n",
        "        if self.downsample:\n",
        "            residual = self.downsample(x)\n",
        "        output += residual\n",
        "        output = self.relu(output)\n",
        "        return output"
      ]
    },
    {
      "cell_type": "code",
      "execution_count": 4,
      "metadata": {
        "id": "d6Ovl1iFkZZN"
      },
      "outputs": [],
      "source": [
        "class Resnet(nn.Module):\n",
        "    def __init__(self, block, layers, num_classes=10):\n",
        "        super(Resnet, self).__init__()\n",
        "        self.input_channels = 16\n",
        "        self.conv = conv3x3(3, 16)\n",
        "        self.bn = nn.BatchNorm2d(16)\n",
        "        self.relu = nn.ReLU(inplace=True)\n",
        "        self.layer1 = self.make_layer(block, 16, layers[0])\n",
        "        self.layer2 = self.make_layer(block, 32, layers[1], 2)\n",
        "        self.layer3 = self.make_layer(block, 64, layers[2], 2)\n",
        "        self.avg_pool = nn.AvgPool2d(8)\n",
        "        self.fc = nn.Linear(64, num_classes)\n",
        "\n",
        "    def make_layer(self, block, output_channels, blocks, stride=1):\n",
        "        downsample = None\n",
        "        if (stride != 1) or (self.input_channels != output_channels):\n",
        "           downsample = nn.Sequential(conv3x3(self.input_channels, output_channels, stride=stride),nn.BatchNorm2d(output_channels))\n",
        "        layers = []\n",
        "        layers.append(block(self.input_channels, output_channels, stride, downsample))\n",
        "        self.input_channels = output_channels\n",
        "        for i in range(1, blocks):\n",
        "            layers.append(block(output_channels, output_channels))\n",
        "        return nn.Sequential(*layers)\n",
        "\n",
        "    def forward(self, x):\n",
        "        output = self.conv(x)\n",
        "        output = self.bn(output)\n",
        "        output = self.relu(output)\n",
        "        output = self.layer1(output)\n",
        "        output = self.layer2(output)\n",
        "        output = self.layer3(output)\n",
        "        output = self.avg_pool(output)\n",
        "        output = output.view(output.size(0), -1)\n",
        "        output = self.fc(output)\n",
        "        return output\n"
      ]
    },
    {
      "cell_type": "markdown",
      "source": [
        "###Data preprocessing"
      ],
      "metadata": {
        "id": "-4EBMC9IsUbO"
      }
    },
    {
      "cell_type": "code",
      "execution_count": 5,
      "metadata": {
        "id": "XohcslTfl7Tb"
      },
      "outputs": [],
      "source": [
        "device = torch.device('cuda' if torch.cuda.is_available() else 'cpu')"
      ]
    },
    {
      "cell_type": "code",
      "execution_count": 6,
      "metadata": {
        "id": "2B37mg1wmAty"
      },
      "outputs": [],
      "source": [
        "transform = transforms.Compose([transforms.Pad(4),transforms.RandomHorizontalFlip(),transforms.RandomCrop(32),transforms.ToTensor()])"
      ]
    },
    {
      "cell_type": "code",
      "execution_count": 7,
      "metadata": {
        "colab": {
          "base_uri": "https://localhost:8080/",
          "height": 84,
          "referenced_widgets": [
            "963a380234b24f67882d1220e70239d8",
            "52fca0d033c04f719d240183264d768e",
            "8bdcc017d9a54ee990f5d95caba1eca5",
            "d9c0225c27ae4beda4e36dd47efc5678",
            "96baa45796854c769b58e19583a901a5",
            "7446e253310c4574859b72270149e74a",
            "8fda1304b22e419c921af8304c192f8e",
            "9ecb0165aae144c599f226f83eacca8c",
            "d33973a85b2242b39c76f8b875572e50",
            "ad13d5f0ba2a4b18a8df1634676c6c34",
            "2f76f9d9bd4c44f68cb5f4d384e6e6b3"
          ]
        },
        "id": "dYhQXkLTmcuf",
        "outputId": "cafc1d8e-5d98-416d-f5ae-97ae76072b74"
      },
      "outputs": [
        {
          "output_type": "stream",
          "name": "stdout",
          "text": [
            "Downloading https://www.cs.toronto.edu/~kriz/cifar-10-python.tar.gz to ../../data/cifar-10-python.tar.gz\n"
          ]
        },
        {
          "output_type": "display_data",
          "data": {
            "text/plain": [
              "  0%|          | 0/170498071 [00:00<?, ?it/s]"
            ],
            "application/vnd.jupyter.widget-view+json": {
              "version_major": 2,
              "version_minor": 0,
              "model_id": "963a380234b24f67882d1220e70239d8"
            }
          },
          "metadata": {}
        },
        {
          "output_type": "stream",
          "name": "stdout",
          "text": [
            "Extracting ../../data/cifar-10-python.tar.gz to ../../data/\n"
          ]
        }
      ],
      "source": [
        "train_dataset = torchvision.datasets.CIFAR10(root='../../data/', train=True, transform=transform,download=True)\n",
        "\n",
        "test_dataset = torchvision.datasets.CIFAR10(root='../../data/',train=False, transform=transforms.ToTensor())"
      ]
    },
    {
      "cell_type": "code",
      "execution_count": 8,
      "metadata": {
        "id": "2vvL3g9ynFT7"
      },
      "outputs": [],
      "source": [
        "train_dataset, val_dataset= random_split(train_dataset,(45000,5000))"
      ]
    },
    {
      "cell_type": "code",
      "execution_count": 9,
      "metadata": {
        "id": "T-OLB9lDo21q"
      },
      "outputs": [],
      "source": [
        "train_loader = DataLoader(dataset=train_dataset,batch_size=100, shuffle=True)\n",
        "val_loader = DataLoader(dataset=val_dataset,batch_size=100, shuffle=True) \n",
        "test_loader = DataLoader(dataset=test_dataset,batch_size=100, shuffle=False)"
      ]
    },
    {
      "cell_type": "code",
      "execution_count": 10,
      "metadata": {
        "id": "zaFLc_J-pFB7"
      },
      "outputs": [],
      "source": [
        "epochs = 80\n",
        "learning_rate = 0.001"
      ]
    },
    {
      "cell_type": "code",
      "execution_count": 11,
      "metadata": {
        "colab": {
          "base_uri": "https://localhost:8080/"
        },
        "id": "8kDSVJHqqtjo",
        "outputId": "3dc3128c-e2f3-4ea0-d744-dc77ee175303"
      },
      "outputs": [
        {
          "output_type": "stream",
          "name": "stdout",
          "text": [
            "image shape (3, 32, 32)\n"
          ]
        }
      ],
      "source": [
        "print(\"image shape {}\".format(train_dataset[0][0].numpy().shape))"
      ]
    },
    {
      "cell_type": "code",
      "execution_count": 12,
      "metadata": {
        "colab": {
          "base_uri": "https://localhost:8080/"
        },
        "id": "ay1z6Ljor5Ot",
        "outputId": "c28d9661-2929-457f-aca6-0fdce3718c19"
      },
      "outputs": [
        {
          "output_type": "stream",
          "name": "stdout",
          "text": [
            "training data: 45000 images\n",
            "validation data: 5000 images\n",
            "test data: 10000 images\n"
          ]
        }
      ],
      "source": [
        "print(\"training data: {} images\".format(len(train_dataset)))\n",
        "print(\"validation data: {} images\".format(len(val_dataset)))\n",
        "print(\"test data: {} images\".format(len(test_dataset)))"
      ]
    },
    {
      "cell_type": "code",
      "execution_count": 13,
      "metadata": {
        "id": "aHMu0ex2sFjc"
      },
      "outputs": [],
      "source": [
        "model = Resnet(Block, [2, 2, 2]).to(device)"
      ]
    },
    {
      "cell_type": "code",
      "execution_count": 14,
      "metadata": {
        "colab": {
          "base_uri": "https://localhost:8080/"
        },
        "id": "mUJta-v6sv8C",
        "outputId": "49076054-6ece-4eab-9e45-138a85a54119"
      },
      "outputs": [
        {
          "output_type": "stream",
          "name": "stdout",
          "text": [
            "----------------------------------------------------------------\n",
            "        Layer (type)               Output Shape         Param #\n",
            "================================================================\n",
            "            Conv2d-1           [-1, 16, 32, 32]             432\n",
            "       BatchNorm2d-2           [-1, 16, 32, 32]              32\n",
            "              ReLU-3           [-1, 16, 32, 32]               0\n",
            "            Conv2d-4           [-1, 16, 32, 32]           2,304\n",
            "       BatchNorm2d-5           [-1, 16, 32, 32]              32\n",
            "              ReLU-6           [-1, 16, 32, 32]               0\n",
            "            Conv2d-7           [-1, 16, 32, 32]           2,304\n",
            "       BatchNorm2d-8           [-1, 16, 32, 32]              32\n",
            "              ReLU-9           [-1, 16, 32, 32]               0\n",
            "            Block-10           [-1, 16, 32, 32]               0\n",
            "           Conv2d-11           [-1, 16, 32, 32]           2,304\n",
            "      BatchNorm2d-12           [-1, 16, 32, 32]              32\n",
            "             ReLU-13           [-1, 16, 32, 32]               0\n",
            "           Conv2d-14           [-1, 16, 32, 32]           2,304\n",
            "      BatchNorm2d-15           [-1, 16, 32, 32]              32\n",
            "             ReLU-16           [-1, 16, 32, 32]               0\n",
            "            Block-17           [-1, 16, 32, 32]               0\n",
            "           Conv2d-18           [-1, 32, 16, 16]           4,608\n",
            "      BatchNorm2d-19           [-1, 32, 16, 16]              64\n",
            "             ReLU-20           [-1, 32, 16, 16]               0\n",
            "           Conv2d-21           [-1, 32, 16, 16]           9,216\n",
            "      BatchNorm2d-22           [-1, 32, 16, 16]              64\n",
            "           Conv2d-23           [-1, 32, 16, 16]           4,608\n",
            "      BatchNorm2d-24           [-1, 32, 16, 16]              64\n",
            "             ReLU-25           [-1, 32, 16, 16]               0\n",
            "            Block-26           [-1, 32, 16, 16]               0\n",
            "           Conv2d-27           [-1, 32, 16, 16]           9,216\n",
            "      BatchNorm2d-28           [-1, 32, 16, 16]              64\n",
            "             ReLU-29           [-1, 32, 16, 16]               0\n",
            "           Conv2d-30           [-1, 32, 16, 16]           9,216\n",
            "      BatchNorm2d-31           [-1, 32, 16, 16]              64\n",
            "             ReLU-32           [-1, 32, 16, 16]               0\n",
            "            Block-33           [-1, 32, 16, 16]               0\n",
            "           Conv2d-34             [-1, 64, 8, 8]          18,432\n",
            "      BatchNorm2d-35             [-1, 64, 8, 8]             128\n",
            "             ReLU-36             [-1, 64, 8, 8]               0\n",
            "           Conv2d-37             [-1, 64, 8, 8]          36,864\n",
            "      BatchNorm2d-38             [-1, 64, 8, 8]             128\n",
            "           Conv2d-39             [-1, 64, 8, 8]          18,432\n",
            "      BatchNorm2d-40             [-1, 64, 8, 8]             128\n",
            "             ReLU-41             [-1, 64, 8, 8]               0\n",
            "            Block-42             [-1, 64, 8, 8]               0\n",
            "           Conv2d-43             [-1, 64, 8, 8]          36,864\n",
            "      BatchNorm2d-44             [-1, 64, 8, 8]             128\n",
            "             ReLU-45             [-1, 64, 8, 8]               0\n",
            "           Conv2d-46             [-1, 64, 8, 8]          36,864\n",
            "      BatchNorm2d-47             [-1, 64, 8, 8]             128\n",
            "             ReLU-48             [-1, 64, 8, 8]               0\n",
            "            Block-49             [-1, 64, 8, 8]               0\n",
            "        AvgPool2d-50             [-1, 64, 1, 1]               0\n",
            "           Linear-51                   [-1, 10]             650\n",
            "================================================================\n",
            "Total params: 195,738\n",
            "Trainable params: 195,738\n",
            "Non-trainable params: 0\n",
            "----------------------------------------------------------------\n",
            "Input size (MB): 0.01\n",
            "Forward/backward pass size (MB): 3.63\n",
            "Params size (MB): 0.75\n",
            "Estimated Total Size (MB): 4.38\n",
            "----------------------------------------------------------------\n"
          ]
        }
      ],
      "source": [
        "summary(model,(3, 32, 32))"
      ]
    },
    {
      "cell_type": "markdown",
      "source": [
        "###Training the model"
      ],
      "metadata": {
        "id": "kSMwHi4nsgwo"
      }
    },
    {
      "cell_type": "code",
      "execution_count": 15,
      "metadata": {
        "id": "OlTZ-DnGtDc4"
      },
      "outputs": [],
      "source": [
        "criterion = nn.CrossEntropyLoss()\n",
        "optimizer = torch.optim.Adam(model.parameters(), lr=learning_rate)"
      ]
    },
    {
      "cell_type": "code",
      "execution_count": 16,
      "metadata": {
        "id": "Kn-nUipOvJdn"
      },
      "outputs": [],
      "source": [
        "def update_lr(optimizer, lr):    \n",
        "    for param_grp in optimizer.param_groups:\n",
        "        param_grp['lr'] = lr"
      ]
    },
    {
      "cell_type": "code",
      "execution_count": 17,
      "metadata": {
        "colab": {
          "base_uri": "https://localhost:8080/"
        },
        "id": "8L-vaXasvUTw",
        "outputId": "915ac496-cc44-4717-ebff-b87392f5958a"
      },
      "outputs": [
        {
          "output_type": "stream",
          "name": "stdout",
          "text": [
            "Epoch [1/80],  train_epoch_Loss: 1.4601, val_epoch_loss: 1.8088, train_accuracy: 0.4648, val_accuracy: 0.4058\n",
            "Epoch [2/80],  train_epoch_Loss: 1.9736, val_epoch_loss: 1.7104, train_accuracy: 0.2550, val_accuracy: 0.3502\n",
            "Epoch [3/80],  train_epoch_Loss: 1.6074, val_epoch_loss: 1.5403, train_accuracy: 0.3958, val_accuracy: 0.4228\n",
            "Epoch [4/80],  train_epoch_Loss: 1.4459, val_epoch_loss: 1.3347, train_accuracy: 0.4683, val_accuracy: 0.5054\n",
            "Epoch [5/80],  train_epoch_Loss: 1.2808, val_epoch_loss: 1.2284, train_accuracy: 0.5324, val_accuracy: 0.5598\n",
            "Epoch [6/80],  train_epoch_Loss: 1.1447, val_epoch_loss: 1.0984, train_accuracy: 0.5839, val_accuracy: 0.6022\n",
            "Epoch [7/80],  train_epoch_Loss: 1.0492, val_epoch_loss: 1.0257, train_accuracy: 0.6209, val_accuracy: 0.6252\n",
            "Epoch [8/80],  train_epoch_Loss: 0.9768, val_epoch_loss: 0.9194, train_accuracy: 0.6490, val_accuracy: 0.6736\n",
            "Epoch [9/80],  train_epoch_Loss: 0.8999, val_epoch_loss: 0.8798, train_accuracy: 0.6785, val_accuracy: 0.6888\n",
            "Epoch [10/80],  train_epoch_Loss: 0.8462, val_epoch_loss: 0.9178, train_accuracy: 0.6983, val_accuracy: 0.6800\n",
            "Epoch [11/80],  train_epoch_Loss: 0.7980, val_epoch_loss: 0.8456, train_accuracy: 0.7176, val_accuracy: 0.7120\n",
            "Epoch [12/80],  train_epoch_Loss: 0.7505, val_epoch_loss: 0.7792, train_accuracy: 0.7354, val_accuracy: 0.7272\n",
            "Epoch [13/80],  train_epoch_Loss: 0.7104, val_epoch_loss: 0.7380, train_accuracy: 0.7518, val_accuracy: 0.7456\n",
            "Epoch [14/80],  train_epoch_Loss: 0.6793, val_epoch_loss: 0.6954, train_accuracy: 0.7626, val_accuracy: 0.7576\n",
            "Epoch [15/80],  train_epoch_Loss: 0.6559, val_epoch_loss: 0.6788, train_accuracy: 0.7696, val_accuracy: 0.7650\n",
            "Epoch [16/80],  train_epoch_Loss: 0.6278, val_epoch_loss: 0.6725, train_accuracy: 0.7797, val_accuracy: 0.7642\n",
            "Epoch [17/80],  train_epoch_Loss: 0.6133, val_epoch_loss: 0.6507, train_accuracy: 0.7870, val_accuracy: 0.7756\n",
            "Epoch [18/80],  train_epoch_Loss: 0.5868, val_epoch_loss: 0.6397, train_accuracy: 0.7956, val_accuracy: 0.7782\n",
            "Epoch [19/80],  train_epoch_Loss: 0.5745, val_epoch_loss: 0.6400, train_accuracy: 0.7986, val_accuracy: 0.7772\n",
            "Epoch [20/80],  train_epoch_Loss: 0.5632, val_epoch_loss: 0.6083, train_accuracy: 0.8034, val_accuracy: 0.7918\n",
            "Epoch [21/80],  train_epoch_Loss: 0.4749, val_epoch_loss: 0.5643, train_accuracy: 0.8344, val_accuracy: 0.8068\n",
            "Epoch [22/80],  train_epoch_Loss: 0.4563, val_epoch_loss: 0.5682, train_accuracy: 0.8411, val_accuracy: 0.7990\n",
            "Epoch [23/80],  train_epoch_Loss: 0.4481, val_epoch_loss: 0.5505, train_accuracy: 0.8438, val_accuracy: 0.8160\n",
            "Epoch [24/80],  train_epoch_Loss: 0.4401, val_epoch_loss: 0.5335, train_accuracy: 0.8456, val_accuracy: 0.8118\n",
            "Epoch [25/80],  train_epoch_Loss: 0.4343, val_epoch_loss: 0.5632, train_accuracy: 0.8495, val_accuracy: 0.8076\n",
            "Epoch [26/80],  train_epoch_Loss: 0.4269, val_epoch_loss: 0.5490, train_accuracy: 0.8500, val_accuracy: 0.8104\n",
            "Epoch [27/80],  train_epoch_Loss: 0.4198, val_epoch_loss: 0.5377, train_accuracy: 0.8535, val_accuracy: 0.8246\n",
            "Epoch [28/80],  train_epoch_Loss: 0.4103, val_epoch_loss: 0.5754, train_accuracy: 0.8557, val_accuracy: 0.7992\n",
            "Epoch [29/80],  train_epoch_Loss: 0.4067, val_epoch_loss: 0.5323, train_accuracy: 0.8564, val_accuracy: 0.8248\n",
            "Epoch [30/80],  train_epoch_Loss: 0.4028, val_epoch_loss: 0.5310, train_accuracy: 0.8604, val_accuracy: 0.8184\n",
            "Epoch [31/80],  train_epoch_Loss: 0.3964, val_epoch_loss: 0.5425, train_accuracy: 0.8602, val_accuracy: 0.8146\n",
            "Epoch [32/80],  train_epoch_Loss: 0.3911, val_epoch_loss: 0.5301, train_accuracy: 0.8609, val_accuracy: 0.8240\n",
            "Epoch [33/80],  train_epoch_Loss: 0.3823, val_epoch_loss: 0.5361, train_accuracy: 0.8660, val_accuracy: 0.8198\n",
            "Epoch [34/80],  train_epoch_Loss: 0.3800, val_epoch_loss: 0.5282, train_accuracy: 0.8673, val_accuracy: 0.8220\n",
            "Epoch [35/80],  train_epoch_Loss: 0.3732, val_epoch_loss: 0.5361, train_accuracy: 0.8690, val_accuracy: 0.8240\n",
            "Epoch [36/80],  train_epoch_Loss: 0.3695, val_epoch_loss: 0.5147, train_accuracy: 0.8695, val_accuracy: 0.8242\n",
            "Epoch [37/80],  train_epoch_Loss: 0.3662, val_epoch_loss: 0.5342, train_accuracy: 0.8712, val_accuracy: 0.8222\n",
            "Epoch [38/80],  train_epoch_Loss: 0.3608, val_epoch_loss: 0.5178, train_accuracy: 0.8727, val_accuracy: 0.8304\n",
            "Epoch [39/80],  train_epoch_Loss: 0.3522, val_epoch_loss: 0.5324, train_accuracy: 0.8760, val_accuracy: 0.8242\n",
            "Epoch [40/80],  train_epoch_Loss: 0.3480, val_epoch_loss: 0.5386, train_accuracy: 0.8778, val_accuracy: 0.8240\n",
            "Epoch [41/80],  train_epoch_Loss: 0.3180, val_epoch_loss: 0.5066, train_accuracy: 0.8891, val_accuracy: 0.8338\n",
            "Epoch [42/80],  train_epoch_Loss: 0.3116, val_epoch_loss: 0.5071, train_accuracy: 0.8902, val_accuracy: 0.8376\n",
            "Epoch [43/80],  train_epoch_Loss: 0.3047, val_epoch_loss: 0.5008, train_accuracy: 0.8936, val_accuracy: 0.8336\n",
            "Epoch [44/80],  train_epoch_Loss: 0.3040, val_epoch_loss: 0.5220, train_accuracy: 0.8931, val_accuracy: 0.8312\n",
            "Epoch [45/80],  train_epoch_Loss: 0.3013, val_epoch_loss: 0.5101, train_accuracy: 0.8935, val_accuracy: 0.8298\n",
            "Epoch [46/80],  train_epoch_Loss: 0.2938, val_epoch_loss: 0.5163, train_accuracy: 0.8954, val_accuracy: 0.8254\n",
            "Epoch [47/80],  train_epoch_Loss: 0.2954, val_epoch_loss: 0.5269, train_accuracy: 0.8961, val_accuracy: 0.8358\n",
            "Epoch [48/80],  train_epoch_Loss: 0.2909, val_epoch_loss: 0.5171, train_accuracy: 0.8970, val_accuracy: 0.8350\n",
            "Epoch [49/80],  train_epoch_Loss: 0.2903, val_epoch_loss: 0.5168, train_accuracy: 0.8974, val_accuracy: 0.8356\n",
            "Epoch [50/80],  train_epoch_Loss: 0.2874, val_epoch_loss: 0.4985, train_accuracy: 0.8980, val_accuracy: 0.8356\n",
            "Epoch [51/80],  train_epoch_Loss: 0.2903, val_epoch_loss: 0.5178, train_accuracy: 0.8973, val_accuracy: 0.8348\n",
            "Epoch [52/80],  train_epoch_Loss: 0.2844, val_epoch_loss: 0.5094, train_accuracy: 0.8996, val_accuracy: 0.8366\n",
            "Epoch [53/80],  train_epoch_Loss: 0.2855, val_epoch_loss: 0.5257, train_accuracy: 0.9003, val_accuracy: 0.8306\n",
            "Epoch [54/80],  train_epoch_Loss: 0.2805, val_epoch_loss: 0.5116, train_accuracy: 0.9001, val_accuracy: 0.8352\n",
            "Epoch [55/80],  train_epoch_Loss: 0.2816, val_epoch_loss: 0.5134, train_accuracy: 0.9004, val_accuracy: 0.8374\n",
            "Epoch [56/80],  train_epoch_Loss: 0.2785, val_epoch_loss: 0.5363, train_accuracy: 0.9006, val_accuracy: 0.8326\n",
            "Epoch [57/80],  train_epoch_Loss: 0.2753, val_epoch_loss: 0.5211, train_accuracy: 0.9025, val_accuracy: 0.8372\n",
            "Epoch [58/80],  train_epoch_Loss: 0.2729, val_epoch_loss: 0.5131, train_accuracy: 0.9035, val_accuracy: 0.8350\n",
            "Epoch [59/80],  train_epoch_Loss: 0.2710, val_epoch_loss: 0.5168, train_accuracy: 0.9028, val_accuracy: 0.8332\n",
            "Epoch [60/80],  train_epoch_Loss: 0.2683, val_epoch_loss: 0.5145, train_accuracy: 0.9043, val_accuracy: 0.8352\n",
            "Epoch [61/80],  train_epoch_Loss: 0.2553, val_epoch_loss: 0.5253, train_accuracy: 0.9094, val_accuracy: 0.8398\n",
            "Epoch [62/80],  train_epoch_Loss: 0.2540, val_epoch_loss: 0.5112, train_accuracy: 0.9095, val_accuracy: 0.8370\n",
            "Epoch [63/80],  train_epoch_Loss: 0.2548, val_epoch_loss: 0.5122, train_accuracy: 0.9090, val_accuracy: 0.8356\n",
            "Epoch [64/80],  train_epoch_Loss: 0.2533, val_epoch_loss: 0.5151, train_accuracy: 0.9094, val_accuracy: 0.8382\n",
            "Epoch [65/80],  train_epoch_Loss: 0.2485, val_epoch_loss: 0.5133, train_accuracy: 0.9113, val_accuracy: 0.8388\n",
            "Epoch [66/80],  train_epoch_Loss: 0.2529, val_epoch_loss: 0.5170, train_accuracy: 0.9096, val_accuracy: 0.8378\n",
            "Epoch [67/80],  train_epoch_Loss: 0.2523, val_epoch_loss: 0.5363, train_accuracy: 0.9106, val_accuracy: 0.8318\n",
            "Epoch [68/80],  train_epoch_Loss: 0.2499, val_epoch_loss: 0.5112, train_accuracy: 0.9117, val_accuracy: 0.8424\n",
            "Epoch [69/80],  train_epoch_Loss: 0.2530, val_epoch_loss: 0.5208, train_accuracy: 0.9091, val_accuracy: 0.8372\n",
            "Epoch [70/80],  train_epoch_Loss: 0.2488, val_epoch_loss: 0.5129, train_accuracy: 0.9126, val_accuracy: 0.8394\n",
            "Epoch [71/80],  train_epoch_Loss: 0.2477, val_epoch_loss: 0.5091, train_accuracy: 0.9125, val_accuracy: 0.8386\n",
            "Epoch [72/80],  train_epoch_Loss: 0.2468, val_epoch_loss: 0.5140, train_accuracy: 0.9108, val_accuracy: 0.8418\n",
            "Epoch [73/80],  train_epoch_Loss: 0.2478, val_epoch_loss: 0.5182, train_accuracy: 0.9115, val_accuracy: 0.8430\n",
            "Epoch [74/80],  train_epoch_Loss: 0.2463, val_epoch_loss: 0.5131, train_accuracy: 0.9129, val_accuracy: 0.8418\n",
            "Epoch [75/80],  train_epoch_Loss: 0.2460, val_epoch_loss: 0.5229, train_accuracy: 0.9120, val_accuracy: 0.8388\n",
            "Epoch [76/80],  train_epoch_Loss: 0.2471, val_epoch_loss: 0.5178, train_accuracy: 0.9123, val_accuracy: 0.8456\n",
            "Epoch [77/80],  train_epoch_Loss: 0.2399, val_epoch_loss: 0.5221, train_accuracy: 0.9153, val_accuracy: 0.8382\n",
            "Epoch [78/80],  train_epoch_Loss: 0.2417, val_epoch_loss: 0.5103, train_accuracy: 0.9143, val_accuracy: 0.8372\n",
            "Epoch [79/80],  train_epoch_Loss: 0.2370, val_epoch_loss: 0.5379, train_accuracy: 0.9167, val_accuracy: 0.8336\n",
            "Epoch [80/80],  train_epoch_Loss: 0.2437, val_epoch_loss: 0.5149, train_accuracy: 0.9134, val_accuracy: 0.8376\n"
          ]
        }
      ],
      "source": [
        "total_step = len(train_loader)\n",
        "current_lr = learning_rate\n",
        "train_costs,val_costs=[],[]\n",
        "train_acc,val_acc=[],[]\n",
        "labels_train=[]\n",
        "for epoch in range(epochs):\n",
        "    train_correct=0\n",
        "    train_running_loss=0\n",
        "    for i, (images, labels) in enumerate(train_loader):\n",
        "        images = images.to(device)\n",
        "        labels = labels.to(device)\n",
        "     \n",
        "        # Forward pass\n",
        "        outputs = model(images)\n",
        "        loss = criterion(outputs, labels)\n",
        "\n",
        "        # Backward and optimize\n",
        "        optimizer.zero_grad()\n",
        "        loss.backward()\n",
        "        optimizer.step()\n",
        "\n",
        "\n",
        "        _, predicted = torch.max(outputs.data, 1)\n",
        "        train_correct += (predicted==labels).float().sum().item()\n",
        "        train_running_loss +=(loss.data.item()*images.shape[0])\n",
        "\n",
        "     # Decay learning rate\n",
        "    if (epoch+1) % 20 == 0:\n",
        "        current_lr /= 3\n",
        "        update_lr(optimizer, current_lr)\n",
        "      \n",
        "\n",
        "    train_epoch_loss= train_running_loss/len(train_dataset)\n",
        "    train_costs.append(train_epoch_loss)\n",
        "    train_accuracy=train_correct/len(train_dataset)\n",
        "    train_acc.append(train_accuracy)\n",
        "\n",
        "    val_correct=0\n",
        "    val_running_loss=0\n",
        "    model.eval()\n",
        "    with torch.no_grad():\n",
        "        for i, (images, labels) in enumerate(val_loader):\n",
        "          images = images.to(device)\n",
        "          labels = labels.to(device)\n",
        "\n",
        "        # Forward pass\n",
        "          outputs = model(images)\n",
        "          loss = criterion(outputs, labels)\n",
        "\n",
        "\n",
        "          _, predicted = torch.max(outputs.data, 1)\n",
        "          val_correct += (predicted==labels).float().sum().item()\n",
        "          val_running_loss +=(loss.data.item()*images.shape[0])\n",
        "\n",
        "   \n",
        "\n",
        "        val_epoch_loss= val_running_loss/len(val_dataset)\n",
        "        val_costs.append(val_epoch_loss)\n",
        "        val_accuracy=val_correct/len(val_dataset)\n",
        "        val_acc.append(val_accuracy)\n",
        "\n",
        "\n",
        "\n",
        "\n",
        "    \n",
        "    print (\"Epoch [{}/{}],  train_epoch_Loss: {:.4f}, val_epoch_loss: {:.4f}, train_accuracy: {:.4f}, val_accuracy: {:.4f}\".format(epoch+1, epochs, train_epoch_loss,val_epoch_loss,train_accuracy,val_accuracy ))\n",
        "\n",
        "    "
      ]
    },
    {
      "cell_type": "code",
      "execution_count": 18,
      "metadata": {
        "id": "E_o1b4D_XD1m"
      },
      "outputs": [],
      "source": [
        "torch.save(model.state_dict(), 'resnet.ckpt')"
      ]
    },
    {
      "cell_type": "code",
      "execution_count": 19,
      "metadata": {
        "id": "sMLIzctCCGy5",
        "colab": {
          "base_uri": "https://localhost:8080/",
          "height": 350
        },
        "outputId": "7a0b77cc-3135-4427-824d-fdcf827f2141"
      },
      "outputs": [
        {
          "output_type": "display_data",
          "data": {
            "text/plain": [
              "<Figure size 720x360 with 1 Axes>"
            ],
            "image/png": "[encoded data removed]"
          },
          "metadata": {
            "needs_background": "light"
          }
        }
      ],
      "source": [
        "plt.figure(figsize=(10,5))\n",
        "plt.title(\"Training and Validation Loss\")\n",
        "plt.plot(val_costs,label=\"val\")\n",
        "plt.plot(train_costs,label=\"train\")\n",
        "plt.xlabel(\"iterations\")\n",
        "plt.ylabel(\"Loss\")\n",
        "plt.legend()\n",
        "plt.show()"
      ]
    },
    {
      "cell_type": "code",
      "source": [
        "plt.figure(figsize=(10,5))\n",
        "plt.title(\"Training and Validation accuracy\")\n",
        "plt.plot(val_acc,label=\"val\")\n",
        "plt.plot(train_acc,label=\"train\")\n",
        "plt.xlabel(\"iterations\")\n",
        "plt.ylabel(\"Accuracy\")\n",
        "plt.legend()\n",
        "plt.show()"
      ],
      "metadata": {
        "colab": {
          "base_uri": "https://localhost:8080/",
          "height": 350
        },
        "id": "59GKUnZTFcun",
        "outputId": "ab6f2f64-0b51-4033-bfb8-d4d1911cfc85"
      },
      "execution_count": 20,
      "outputs": [
        {
          "output_type": "display_data",
          "data": {
            "text/plain": [
              "<Figure size 720x360 with 1 Axes>"
            ],
            "image/png": "[encoded data removed]"
          },
          "metadata": {
            "needs_background": "light"
          }
        }
      ]
    },
    {
      "cell_type": "markdown",
      "source": [
        "##Testing the model"
      ],
      "metadata": {
        "id": "U2nyT-YespCn"
      }
    },
    {
      "cell_type": "code",
      "execution_count": 21,
      "metadata": {
        "id": "neDVD2dFxomv",
        "colab": {
          "base_uri": "https://localhost:8080/"
        },
        "outputId": "af800d39-cbe5-400b-e533-ef2a47d88738"
      },
      "outputs": [
        {
          "output_type": "stream",
          "name": "stdout",
          "text": [
            "Accuracy of the model on the test images: 84.51 %\n"
          ]
        }
      ],
      "source": [
        "model.eval()\n",
        "y_true,y_pred=[],[]\n",
        "with torch.no_grad():\n",
        "    correct = 0\n",
        "    total = 0\n",
        "    for images, labels in test_loader:\n",
        "        y_true.extend(labels.numpy())\n",
        "        images = images.to(device)\n",
        "        labels = labels.to(device)\n",
        "        outputs = model(images)\n",
        "        _, predicted = torch.max(outputs.data, 1)\n",
        "        y_pred.extend(predicted.cpu().numpy())\n",
        "        total += labels.size(0)\n",
        "        correct += (predicted == labels).sum().item()\n",
        "    print('Accuracy of the model on the test images: {} %'.format(100 * correct / total))"
      ]
    },
    {
      "cell_type": "code",
      "source": [
        "from sklearn.metrics import confusion_matrix,roc_curve\n",
        "cm=confusion_matrix(y_true,y_pred)\n",
        "cm"
      ],
      "metadata": {
        "colab": {
          "base_uri": "https://localhost:8080/"
        },
        "id": "nj26mul4D9wy",
        "outputId": "3ce12833-c707-4013-88b9-8914a89863d6"
      },
      "execution_count": 27,
      "outputs": [
        {
          "output_type": "execute_result",
          "data": {
            "text/plain": [
              "array([[870,   9,  36,   9,   5,   1,   4,   6,  40,  20],\n",
              "       [  8, 925,   1,   2,   0,   2,   4,   1,  11,  46],\n",
              "       [ 44,   1, 814,  21,  36,  31,  35,  10,   5,   3],\n",
              "       [ 13,   2,  60, 664,  48, 146,  30,  19,   7,  11],\n",
              "       [  8,   2,  50,  28, 824,  24,  26,  34,   2,   2],\n",
              "       [ 10,   1,  39,  96,  26, 782,  13,  25,   3,   5],\n",
              "       [  9,   2,  44,  31,  12,  14, 883,   2,   2,   1],\n",
              "       [ 18,   0,  24,  22,  23,  41,   4, 860,   1,   7],\n",
              "       [ 36,  11,   5,   2,   1,   0,   7,   0, 924,  14],\n",
              "       [ 23,  48,   3,   5,   1,   1,   1,   0,  13, 905]])"
            ]
          },
          "metadata": {},
          "execution_count": 27
        }
      ]
    },
    {
      "cell_type": "code",
      "source": [
        "import seaborn as sn\n",
        "sn.heatmap(cm, annot=True, fmt='d')"
      ],
      "metadata": {
        "colab": {
          "base_uri": "https://localhost:8080/",
          "height": 282
        },
        "id": "F5Lh7XffJG4k",
        "outputId": "33cc1dc8-e3e1-45d1-cb92-a65eab12aa18"
      },
      "execution_count": 29,
      "outputs": [
        {
          "output_type": "execute_result",
          "data": {
            "text/plain": [
              "<matplotlib.axes._subplots.AxesSubplot at 0x7f7ee2c410d0>"
            ]
          },
          "metadata": {},
          "execution_count": 29
        },
        {
          "output_type": "display_data",
          "data": {
            "text/plain": [
              "<Figure size 432x288 with 2 Axes>"
            ],
            "image/png": "[encoded data removed]"
          },
          "metadata": {
            "needs_background": "light"
          }
        }
      ]
    },
    {
      "cell_type": "code",
      "source": [
        "from sklearn.metrics import classification_report\n",
        "cr= classification_report(y_true, y_pred)\n",
        "print(cr)"
      ],
      "metadata": {
        "colab": {
          "base_uri": "https://localhost:8080/"
        },
        "id": "KrePjvtYFNlL",
        "outputId": "bc3471bc-d144-4177-d4e2-1b02a44d3012"
      },
      "execution_count": 24,
      "outputs": [
        {
          "output_type": "stream",
          "name": "stdout",
          "text": [
            "              precision    recall  f1-score   support\n",
            "\n",
            "           0       0.84      0.87      0.85      1000\n",
            "           1       0.92      0.93      0.92      1000\n",
            "           2       0.76      0.81      0.78      1000\n",
            "           3       0.75      0.66      0.71      1000\n",
            "           4       0.84      0.82      0.83      1000\n",
            "           5       0.75      0.78      0.77      1000\n",
            "           6       0.88      0.88      0.88      1000\n",
            "           7       0.90      0.86      0.88      1000\n",
            "           8       0.92      0.92      0.92      1000\n",
            "           9       0.89      0.91      0.90      1000\n",
            "\n",
            "    accuracy                           0.85     10000\n",
            "   macro avg       0.85      0.85      0.84     10000\n",
            "weighted avg       0.85      0.85      0.84     10000\n",
            "\n"
          ]
        }
      ]
    }
  ],
  "metadata": {
    "accelerator": "GPU",
    "colab": {
      "provenance": []
    },
    "kernelspec": {
      "display_name": "Python 3",
      "name": "python3"
    },
    "language_info": {
      "name": "python"
    },
    "widgets": {
      "application/vnd.jupyter.widget-state+json": {
        "963a380234b24f67882d1220e70239d8": {
          "model_module": "@jupyter-widgets/controls",
          "model_name": "HBoxModel",
          "model_module_version": "1.5.0",
          "state": {
            "_dom_classes": [],
            "_model_module": "@jupyter-widgets/controls",
            "_model_module_version": "1.5.0",
            "_model_name": "HBoxModel",
            "_view_count": null,
            "_view_module": "@jupyter-widgets/controls",
            "_view_module_version": "1.5.0",
            "_view_name": "HBoxView",
            "box_style": "",
            "children": [
              "IPY_MODEL_52fca0d033c04f719d240183264d768e",
              "IPY_MODEL_8bdcc017d9a54ee990f5d95caba1eca5",
              "IPY_MODEL_d9c0225c27ae4beda4e36dd47efc5678"
            ],
            "layout": "IPY_MODEL_96baa45796854c769b58e19583a901a5"
          }
        },
        "52fca0d033c04f719d240183264d768e": {
          "model_module": "@jupyter-widgets/controls",
          "model_name": "HTMLModel",
          "model_module_version": "1.5.0",
          "state": {
            "_dom_classes": [],
            "_model_module": "@jupyter-widgets/controls",
            "_model_module_version": "1.5.0",
            "_model_name": "HTMLModel",
            "_view_count": null,
            "_view_module": "@jupyter-widgets/controls",
            "_view_module_version": "1.5.0",
            "_view_name": "HTMLView",
            "description": "",
            "description_tooltip": null,
            "layout": "IPY_MODEL_7446e253310c4574859b72270149e74a",
            "placeholder": "​",
            "style": "IPY_MODEL_8fda1304b22e419c921af8304c192f8e",
            "value": "100%"
          }
        },
        "8bdcc017d9a54ee990f5d95caba1eca5": {
          "model_module": "@jupyter-widgets/controls",
          "model_name": "FloatProgressModel",
          "model_module_version": "1.5.0",
          "state": {
            "_dom_classes": [],
            "_model_module": "@jupyter-widgets/controls",
            "_model_module_version": "1.5.0",
            "_model_name": "FloatProgressModel",
            "_view_count": null,
            "_view_module": "@jupyter-widgets/controls",
            "_view_module_version": "1.5.0",
            "_view_name": "ProgressView",
            "bar_style": "success",
            "description": "",
            "description_tooltip": null,
            "layout": "IPY_MODEL_9ecb0165aae144c599f226f83eacca8c",
            "max": 170498071,
            "min": 0,
            "orientation": "horizontal",
            "style": "IPY_MODEL_d33973a85b2242b39c76f8b875572e50",
            "value": 170498071
          }
        },
        "d9c0225c27ae4beda4e36dd47efc5678": {
          "model_module": "@jupyter-widgets/controls",
          "model_name": "HTMLModel",
          "model_module_version": "1.5.0",
          "state": {
            "_dom_classes": [],
            "_model_module": "@jupyter-widgets/controls",
            "_model_module_version": "1.5.0",
            "_model_name": "HTMLModel",
            "_view_count": null,
            "_view_module": "@jupyter-widgets/controls",
            "_view_module_version": "1.5.0",
            "_view_name": "HTMLView",
            "description": "",
            "description_tooltip": null,
            "layout": "IPY_MODEL_ad13d5f0ba2a4b18a8df1634676c6c34",
            "placeholder": "​",
            "style": "IPY_MODEL_2f76f9d9bd4c44f68cb5f4d384e6e6b3",
            "value": " 170498071/170498071 [00:02&lt;00:00, 65704554.40it/s]"
          }
        },
        "96baa45796854c769b58e19583a901a5": {
          "model_module": "@jupyter-widgets/base",
          "model_name": "LayoutModel",
          "model_module_version": "1.2.0",
          "state": {
            "_model_module": "@jupyter-widgets/base",
            "_model_module_version": "1.2.0",
            "_model_name": "LayoutModel",
            "_view_count": null,
            "_view_module": "@jupyter-widgets/base",
            "_view_module_version": "1.2.0",
            "_view_name": "LayoutView",
            "align_content": null,
            "align_items": null,
            "align_self": null,
            "border": null,
            "bottom": null,
            "display": null,
            "flex": null,
            "flex_flow": null,
            "grid_area": null,
            "grid_auto_columns": null,
            "grid_auto_flow": null,
            "grid_auto_rows": null,
            "grid_column": null,
            "grid_gap": null,
            "grid_row": null,
            "grid_template_areas": null,
            "grid_template_columns": null,
            "grid_template_rows": null,
            "height": null,
            "justify_content": null,
            "justify_items": null,
            "left": null,
            "margin": null,
            "max_height": null,
            "max_width": null,
            "min_height": null,
            "min_width": null,
            "object_fit": null,
            "object_position": null,
            "order": null,
            "overflow": null,
            "overflow_x": null,
            "overflow_y": null,
            "padding": null,
            "right": null,
            "top": null,
            "visibility": null,
            "width": null
          }
        },
        "7446e253310c4574859b72270149e74a": {
          "model_module": "@jupyter-widgets/base",
          "model_name": "LayoutModel",
          "model_module_version": "1.2.0",
          "state": {
            "_model_module": "@jupyter-widgets/base",
            "_model_module_version": "1.2.0",
            "_model_name": "LayoutModel",
            "_view_count": null,
            "_view_module": "@jupyter-widgets/base",
            "_view_module_version": "1.2.0",
            "_view_name": "LayoutView",
            "align_content": null,
            "align_items": null,
            "align_self": null,
            "border": null,
            "bottom": null,
            "display": null,
            "flex": null,
            "flex_flow": null,
            "grid_area": null,
            "grid_auto_columns": null,
            "grid_auto_flow": null,
            "grid_auto_rows": null,
            "grid_column": null,
            "grid_gap": null,
            "grid_row": null,
            "grid_template_areas": null,
            "grid_template_columns": null,
            "grid_template_rows": null,
            "height": null,
            "justify_content": null,
            "justify_items": null,
            "left": null,
            "margin": null,
            "max_height": null,
            "max_width": null,
            "min_height": null,
            "min_width": null,
            "object_fit": null,
            "object_position": null,
            "order": null,
            "overflow": null,
            "overflow_x": null,
            "overflow_y": null,
            "padding": null,
            "right": null,
            "top": null,
            "visibility": null,
            "width": null
          }
        },
        "8fda1304b22e419c921af8304c192f8e": {
          "model_module": "@jupyter-widgets/controls",
          "model_name": "DescriptionStyleModel",
          "model_module_version": "1.5.0",
          "state": {
            "_model_module": "@jupyter-widgets/controls",
            "_model_module_version": "1.5.0",
            "_model_name": "DescriptionStyleModel",
            "_view_count": null,
            "_view_module": "@jupyter-widgets/base",
            "_view_module_version": "1.2.0",
            "_view_name": "StyleView",
            "description_width": ""
          }
        },
        "9ecb0165aae144c599f226f83eacca8c": {
          "model_module": "@jupyter-widgets/base",
          "model_name": "LayoutModel",
          "model_module_version": "1.2.0",
          "state": {
            "_model_module": "@jupyter-widgets/base",
            "_model_module_version": "1.2.0",
            "_model_name": "LayoutModel",
            "_view_count": null,
            "_view_module": "@jupyter-widgets/base",
            "_view_module_version": "1.2.0",
            "_view_name": "LayoutView",
            "align_content": null,
            "align_items": null,
            "align_self": null,
            "border": null,
            "bottom": null,
            "display": null,
            "flex": null,
            "flex_flow": null,
            "grid_area": null,
            "grid_auto_columns": null,
            "grid_auto_flow": null,
            "grid_auto_rows": null,
            "grid_column": null,
            "grid_gap": null,
            "grid_row": null,
            "grid_template_areas": null,
            "grid_template_columns": null,
            "grid_template_rows": null,
            "height": null,
            "justify_content": null,
            "justify_items": null,
            "left": null,
            "margin": null,
            "max_height": null,
            "max_width": null,
            "min_height": null,
            "min_width": null,
            "object_fit": null,
            "object_position": null,
            "order": null,
            "overflow": null,
            "overflow_x": null,
            "overflow_y": null,
            "padding": null,
            "right": null,
            "top": null,
            "visibility": null,
            "width": null
          }
        },
        "d33973a85b2242b39c76f8b875572e50": {
          "model_module": "@jupyter-widgets/controls",
          "model_name": "ProgressStyleModel",
          "model_module_version": "1.5.0",
          "state": {
            "_model_module": "@jupyter-widgets/controls",
            "_model_module_version": "1.5.0",
            "_model_name": "ProgressStyleModel",
            "_view_count": null,
            "_view_module": "@jupyter-widgets/base",
            "_view_module_version": "1.2.0",
            "_view_name": "StyleView",
            "bar_color": null,
            "description_width": ""
          }
        },
        "ad13d5f0ba2a4b18a8df1634676c6c34": {
          "model_module": "@jupyter-widgets/base",
          "model_name": "LayoutModel",
          "model_module_version": "1.2.0",
          "state": {
            "_model_module": "@jupyter-widgets/base",
            "_model_module_version": "1.2.0",
            "_model_name": "LayoutModel",
            "_view_count": null,
            "_view_module": "@jupyter-widgets/base",
            "_view_module_version": "1.2.0",
            "_view_name": "LayoutView",
            "align_content": null,
            "align_items": null,
            "align_self": null,
            "border": null,
            "bottom": null,
            "display": null,
            "flex": null,
            "flex_flow": null,
            "grid_area": null,
            "grid_auto_columns": null,
            "grid_auto_flow": null,
            "grid_auto_rows": null,
            "grid_column": null,
            "grid_gap": null,
            "grid_row": null,
            "grid_template_areas": null,
            "grid_template_columns": null,
            "grid_template_rows": null,
            "height": null,
            "justify_content": null,
            "justify_items": null,
            "left": null,
            "margin": null,
            "max_height": null,
            "max_width": null,
            "min_height": null,
            "min_width": null,
            "object_fit": null,
            "object_position": null,
            "order": null,
            "overflow": null,
            "overflow_x": null,
            "overflow_y": null,
            "padding": null,
            "right": null,
            "top": null,
            "visibility": null,
            "width": null
          }
        },
        "2f76f9d9bd4c44f68cb5f4d384e6e6b3": {
          "model_module": "@jupyter-widgets/controls",
          "model_name": "DescriptionStyleModel",
          "model_module_version": "1.5.0",
          "state": {
            "_model_module": "@jupyter-widgets/controls",
            "_model_module_version": "1.5.0",
            "_model_name": "DescriptionStyleModel",
            "_view_count": null,
            "_view_module": "@jupyter-widgets/base",
            "_view_module_version": "1.2.0",
            "_view_name": "StyleView",
            "description_width": ""
          }
        }
      }
    }
  },
  "nbformat": 4,
  "nbformat_minor": 0
}