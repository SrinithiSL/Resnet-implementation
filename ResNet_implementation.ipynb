{
  "cells": [
    {
      "cell_type": "markdown",
      "source": [
        "##Resnet- implementation "
      ],
      "metadata": {
        "id": "i11GKVrHr0xs"
      }
    },
    {
      "cell_type": "code",
      "execution_count": 19,
      "metadata": {
        "id": "DEeB3WRjj1y-"
      },
      "outputs": [],
      "source": [
        "import torch\n",
        "import torch.nn as nn\n",
        "import torchvision\n",
        "import torchvision.transforms as transforms\n",
        "from torchsummary import summary\n",
        "from torch.utils.data import random_split, DataLoader\n",
        "import matplotlib.pyplot as plt\n",
        "import numpy as np"
      ]
    },
    {
      "cell_type": "markdown",
      "source": [
        "##Resnet"
      ],
      "metadata": {
        "id": "eao9JEToswJH"
      }
    },
    {
      "cell_type": "code",
      "execution_count": 20,
      "metadata": {
        "id": "_3qn5iaBkIZd"
      },
      "outputs": [],
      "source": [
        "def conv3x3(in_channels, out_channels, stride=1):\n",
        "    return nn.Conv2d(in_channels, out_channels, kernel_size=3, stride=stride, padding=1, bias=False)"
      ]
    },
    {
      "cell_type": "code",
      "execution_count": 22,
      "metadata": {
        "id": "vN943JXpkQAb"
      },
      "outputs": [],
      "source": [
        "class Block(nn.Module):\n",
        "    def __init__(self, input_channels, output_channels, stride=1, downsample=None):\n",
        "        super(Block, self).__init__()\n",
        "        self.conv1 = conv3x3(input_channels, output_channels, stride)\n",
        "        self.bn1 = nn.BatchNorm2d(output_channels)\n",
        "        self.relu = nn.ReLU(inplace=True)\n",
        "        self.conv2 = conv3x3(output_channels, output_channels)\n",
        "        self.bn2 = nn.BatchNorm2d(output_channels)\n",
        "        self.downsample = downsample\n",
        "\n",
        "    def forward(self, x):\n",
        "        residual = x\n",
        "        output = self.conv1(x)\n",
        "        output = self.bn1(output)\n",
        "        output = self.relu(output)\n",
        "        output = self.conv2(output)\n",
        "        output = self.bn2(output)\n",
        "        if self.downsample:\n",
        "            residual = self.downsample(x)\n",
        "        output += residual\n",
        "        output = self.relu(output)\n",
        "        return output"
      ]
    },
    {
      "cell_type": "code",
      "execution_count": 23,
      "metadata": {
        "id": "d6Ovl1iFkZZN"
      },
      "outputs": [],
      "source": [
        "class Resnet(nn.Module):\n",
        "    def __init__(self, block, layers, num_classes=10):\n",
        "        super(Resnet, self).__init__()\n",
        "        self.input_channels = 16\n",
        "        self.conv = conv3x3(3, 16)\n",
        "        self.bn = nn.BatchNorm2d(16)\n",
        "        self.relu = nn.ReLU(inplace=True)\n",
        "        self.layer1 = self.make_layer(block, 16, layers[0])\n",
        "        self.layer2 = self.make_layer(block, 32, layers[1], 2)\n",
        "        self.layer3 = self.make_layer(block, 64, layers[2], 2)\n",
        "        self.avg_pool = nn.AvgPool2d(8)\n",
        "        self.fc = nn.Linear(64, num_classes)\n",
        "\n",
        "    def make_layer(self, block, output_channels, blocks, stride=1):\n",
        "        downsample = None\n",
        "        if (stride != 1) or (self.input_channels != output_channels):\n",
        "           downsample = nn.Sequential(conv3x3(self.input_channels, output_channels, stride=stride),nn.BatchNorm2d(output_channels))\n",
        "        layers = []\n",
        "        layers.append(block(self.input_channels, output_channels, stride, downsample))\n",
        "        self.input_channels = output_channels\n",
        "        for i in range(1, blocks):\n",
        "            layers.append(block(output_channels, output_channels))\n",
        "        return nn.Sequential(*layers)\n",
        "\n",
        "    def forward(self, x):\n",
        "        output = self.conv(x)\n",
        "        output = self.bn(output)\n",
        "        output = self.relu(output)\n",
        "        output = self.layer1(output)\n",
        "        output = self.layer2(output)\n",
        "        output = self.layer3(output)\n",
        "        output = self.avg_pool(output)\n",
        "        output = output.view(output.size(0), -1)\n",
        "        output = self.fc(output)\n",
        "        return output\n"
      ]
    },
    {
      "cell_type": "markdown",
      "source": [
        "###Data preprocessing"
      ],
      "metadata": {
        "id": "-4EBMC9IsUbO"
      }
    },
    {
      "cell_type": "code",
      "execution_count": 24,
      "metadata": {
        "id": "XohcslTfl7Tb"
      },
      "outputs": [],
      "source": [
        "device = torch.device('cuda' if torch.cuda.is_available() else 'cpu')"
      ]
    },
    {
      "cell_type": "code",
      "execution_count": 25,
      "metadata": {
        "id": "2B37mg1wmAty"
      },
      "outputs": [],
      "source": [
        "transform = transforms.Compose([transforms.Pad(4),transforms.RandomHorizontalFlip(),transforms.RandomCrop(32),transforms.ToTensor()])"
      ]
    },
    {
      "cell_type": "code",
      "execution_count": 26,
      "metadata": {
        "colab": {
          "base_uri": "https://localhost:8080/"
        },
        "id": "dYhQXkLTmcuf",
        "outputId": "1d727f5b-387c-40f7-a285-f8236d3900a1"
      },
      "outputs": [
        {
          "output_type": "stream",
          "name": "stdout",
          "text": [
            "Files already downloaded and verified\n"
          ]
        }
      ],
      "source": [
        "train_dataset = torchvision.datasets.CIFAR10(root='../../data/', train=True, transform=transform,download=True)\n",
        "\n",
        "test_dataset = torchvision.datasets.CIFAR10(root='../../data/',train=False, transform=transforms.ToTensor())"
      ]
    },
    {
      "cell_type": "code",
      "execution_count": 27,
      "metadata": {
        "id": "2vvL3g9ynFT7"
      },
      "outputs": [],
      "source": [
        "train_dataset, val_dataset= random_split(train_dataset,(45000,5000))"
      ]
    },
    {
      "cell_type": "code",
      "execution_count": 28,
      "metadata": {
        "id": "T-OLB9lDo21q"
      },
      "outputs": [],
      "source": [
        "train_loader = DataLoader(dataset=train_dataset,batch_size=100, shuffle=True)\n",
        "val_loader = DataLoader(dataset=val_dataset,batch_size=100, shuffle=True) \n",
        "test_loader = DataLoader(dataset=test_dataset,batch_size=100, shuffle=False)"
      ]
    },
    {
      "cell_type": "code",
      "execution_count": 29,
      "metadata": {
        "id": "zaFLc_J-pFB7"
      },
      "outputs": [],
      "source": [
        "epochs = 80\n",
        "learning_rate = 0.001"
      ]
    },
    {
      "cell_type": "code",
      "execution_count": 30,
      "metadata": {
        "colab": {
          "base_uri": "https://localhost:8080/"
        },
        "id": "8kDSVJHqqtjo",
        "outputId": "16f0dd91-58fe-4369-dbb7-88637e085255"
      },
      "outputs": [
        {
          "output_type": "stream",
          "name": "stdout",
          "text": [
            "image shape (3, 32, 32)\n"
          ]
        }
      ],
      "source": [
        "print(\"image shape {}\".format(train_dataset[0][0].numpy().shape))"
      ]
    },
    {
      "cell_type": "code",
      "execution_count": 31,
      "metadata": {
        "colab": {
          "base_uri": "https://localhost:8080/"
        },
        "id": "ay1z6Ljor5Ot",
        "outputId": "ae15b7a8-62f1-402a-d016-fe0bfd98785a"
      },
      "outputs": [
        {
          "output_type": "stream",
          "name": "stdout",
          "text": [
            "training data: 45000 images\n",
            "validation data: 5000 images\n",
            "test data: 10000 images\n"
          ]
        }
      ],
      "source": [
        "print(\"training data: {} images\".format(len(train_dataset)))\n",
        "print(\"validation data: {} images\".format(len(val_dataset)))\n",
        "print(\"test data: {} images\".format(len(test_dataset)))"
      ]
    },
    {
      "cell_type": "code",
      "execution_count": 32,
      "metadata": {
        "id": "aHMu0ex2sFjc"
      },
      "outputs": [],
      "source": [
        "model = Resnet(Block, [2, 2, 2]).to(device)"
      ]
    },
    {
      "cell_type": "code",
      "execution_count": 33,
      "metadata": {
        "colab": {
          "base_uri": "https://localhost:8080/"
        },
        "id": "mUJta-v6sv8C",
        "outputId": "598108ba-44fa-4ecc-fe3a-f8c0bc25f3ce"
      },
      "outputs": [
        {
          "output_type": "stream",
          "name": "stdout",
          "text": [
            "----------------------------------------------------------------\n",
            "        Layer (type)               Output Shape         Param #\n",
            "================================================================\n",
            "            Conv2d-1           [-1, 16, 32, 32]             432\n",
            "       BatchNorm2d-2           [-1, 16, 32, 32]              32\n",
            "              ReLU-3           [-1, 16, 32, 32]               0\n",
            "            Conv2d-4           [-1, 16, 32, 32]           2,304\n",
            "       BatchNorm2d-5           [-1, 16, 32, 32]              32\n",
            "              ReLU-6           [-1, 16, 32, 32]               0\n",
            "            Conv2d-7           [-1, 16, 32, 32]           2,304\n",
            "       BatchNorm2d-8           [-1, 16, 32, 32]              32\n",
            "              ReLU-9           [-1, 16, 32, 32]               0\n",
            "            Block-10           [-1, 16, 32, 32]               0\n",
            "           Conv2d-11           [-1, 16, 32, 32]           2,304\n",
            "      BatchNorm2d-12           [-1, 16, 32, 32]              32\n",
            "             ReLU-13           [-1, 16, 32, 32]               0\n",
            "           Conv2d-14           [-1, 16, 32, 32]           2,304\n",
            "      BatchNorm2d-15           [-1, 16, 32, 32]              32\n",
            "             ReLU-16           [-1, 16, 32, 32]               0\n",
            "            Block-17           [-1, 16, 32, 32]               0\n",
            "           Conv2d-18           [-1, 32, 16, 16]           4,608\n",
            "      BatchNorm2d-19           [-1, 32, 16, 16]              64\n",
            "             ReLU-20           [-1, 32, 16, 16]               0\n",
            "           Conv2d-21           [-1, 32, 16, 16]           9,216\n",
            "      BatchNorm2d-22           [-1, 32, 16, 16]              64\n",
            "           Conv2d-23           [-1, 32, 16, 16]           4,608\n",
            "      BatchNorm2d-24           [-1, 32, 16, 16]              64\n",
            "             ReLU-25           [-1, 32, 16, 16]               0\n",
            "            Block-26           [-1, 32, 16, 16]               0\n",
            "           Conv2d-27           [-1, 32, 16, 16]           9,216\n",
            "      BatchNorm2d-28           [-1, 32, 16, 16]              64\n",
            "             ReLU-29           [-1, 32, 16, 16]               0\n",
            "           Conv2d-30           [-1, 32, 16, 16]           9,216\n",
            "      BatchNorm2d-31           [-1, 32, 16, 16]              64\n",
            "             ReLU-32           [-1, 32, 16, 16]               0\n",
            "            Block-33           [-1, 32, 16, 16]               0\n",
            "           Conv2d-34             [-1, 64, 8, 8]          18,432\n",
            "      BatchNorm2d-35             [-1, 64, 8, 8]             128\n",
            "             ReLU-36             [-1, 64, 8, 8]               0\n",
            "           Conv2d-37             [-1, 64, 8, 8]          36,864\n",
            "      BatchNorm2d-38             [-1, 64, 8, 8]             128\n",
            "           Conv2d-39             [-1, 64, 8, 8]          18,432\n",
            "      BatchNorm2d-40             [-1, 64, 8, 8]             128\n",
            "             ReLU-41             [-1, 64, 8, 8]               0\n",
            "            Block-42             [-1, 64, 8, 8]               0\n",
            "           Conv2d-43             [-1, 64, 8, 8]          36,864\n",
            "      BatchNorm2d-44             [-1, 64, 8, 8]             128\n",
            "             ReLU-45             [-1, 64, 8, 8]               0\n",
            "           Conv2d-46             [-1, 64, 8, 8]          36,864\n",
            "      BatchNorm2d-47             [-1, 64, 8, 8]             128\n",
            "             ReLU-48             [-1, 64, 8, 8]               0\n",
            "            Block-49             [-1, 64, 8, 8]               0\n",
            "        AvgPool2d-50             [-1, 64, 1, 1]               0\n",
            "           Linear-51                   [-1, 10]             650\n",
            "================================================================\n",
            "Total params: 195,738\n",
            "Trainable params: 195,738\n",
            "Non-trainable params: 0\n",
            "----------------------------------------------------------------\n",
            "Input size (MB): 0.01\n",
            "Forward/backward pass size (MB): 3.63\n",
            "Params size (MB): 0.75\n",
            "Estimated Total Size (MB): 4.38\n",
            "----------------------------------------------------------------\n"
          ]
        }
      ],
      "source": [
        "summary(model,(3, 32, 32))"
      ]
    },
    {
      "cell_type": "markdown",
      "source": [
        "###Training the model"
      ],
      "metadata": {
        "id": "kSMwHi4nsgwo"
      }
    },
    {
      "cell_type": "code",
      "execution_count": 34,
      "metadata": {
        "id": "OlTZ-DnGtDc4"
      },
      "outputs": [],
      "source": [
        "criterion = nn.CrossEntropyLoss()\n",
        "optimizer = torch.optim.Adam(model.parameters(), lr=learning_rate)"
      ]
    },
    {
      "cell_type": "code",
      "execution_count": 35,
      "metadata": {
        "id": "Kn-nUipOvJdn"
      },
      "outputs": [],
      "source": [
        "def update_lr(optimizer, lr):    \n",
        "    for param_grp in optimizer.param_groups:\n",
        "        param_grp['lr'] = lr"
      ]
    },
    {
      "cell_type": "code",
      "execution_count": 38,
      "metadata": {
        "colab": {
          "base_uri": "https://localhost:8080/"
        },
        "id": "8L-vaXasvUTw",
        "outputId": "f5e72464-ea10-4e6c-8b0f-a26c3f5763b5"
      },
      "outputs": [
        {
          "output_type": "stream",
          "name": "stdout",
          "text": [
            "Epoch [1/80],  train_epoch_Loss: 1.4364, val_epoch_loss: 1.3179, train_accuracy: 0.4697, val_accuracy: 0.5226\n",
            "Epoch [2/80],  train_epoch_Loss: 1.9526, val_epoch_loss: 1.7564, train_accuracy: 0.2521, val_accuracy: 0.3310\n",
            "Epoch [3/80],  train_epoch_Loss: 1.6464, val_epoch_loss: 1.4229, train_accuracy: 0.3809, val_accuracy: 0.4700\n",
            "Epoch [4/80],  train_epoch_Loss: 1.3954, val_epoch_loss: 1.2548, train_accuracy: 0.4824, val_accuracy: 0.5376\n",
            "Epoch [5/80],  train_epoch_Loss: 1.2503, val_epoch_loss: 1.1097, train_accuracy: 0.5442, val_accuracy: 0.5982\n",
            "Epoch [6/80],  train_epoch_Loss: 1.1425, val_epoch_loss: 1.0638, train_accuracy: 0.5873, val_accuracy: 0.6222\n",
            "Epoch [7/80],  train_epoch_Loss: 1.0624, val_epoch_loss: 0.9560, train_accuracy: 0.6202, val_accuracy: 0.6518\n",
            "Epoch [8/80],  train_epoch_Loss: 0.9981, val_epoch_loss: 1.0346, train_accuracy: 0.6463, val_accuracy: 0.6350\n",
            "Epoch [9/80],  train_epoch_Loss: 0.9492, val_epoch_loss: 0.8854, train_accuracy: 0.6620, val_accuracy: 0.6852\n",
            "Epoch [10/80],  train_epoch_Loss: 0.8986, val_epoch_loss: 0.8385, train_accuracy: 0.6818, val_accuracy: 0.7004\n",
            "Epoch [11/80],  train_epoch_Loss: 0.8504, val_epoch_loss: 0.7919, train_accuracy: 0.6973, val_accuracy: 0.7186\n",
            "Epoch [12/80],  train_epoch_Loss: 0.8087, val_epoch_loss: 0.7981, train_accuracy: 0.7162, val_accuracy: 0.7200\n",
            "Epoch [13/80],  train_epoch_Loss: 0.7780, val_epoch_loss: 0.7542, train_accuracy: 0.7248, val_accuracy: 0.7340\n",
            "Epoch [14/80],  train_epoch_Loss: 0.7409, val_epoch_loss: 0.7648, train_accuracy: 0.7400, val_accuracy: 0.7274\n",
            "Epoch [15/80],  train_epoch_Loss: 0.7120, val_epoch_loss: 0.7447, train_accuracy: 0.7512, val_accuracy: 0.7362\n",
            "Epoch [16/80],  train_epoch_Loss: 0.6821, val_epoch_loss: 0.6741, train_accuracy: 0.7607, val_accuracy: 0.7598\n",
            "Epoch [17/80],  train_epoch_Loss: 0.6625, val_epoch_loss: 0.6623, train_accuracy: 0.7677, val_accuracy: 0.7724\n",
            "Epoch [18/80],  train_epoch_Loss: 0.6396, val_epoch_loss: 0.6537, train_accuracy: 0.7744, val_accuracy: 0.7748\n",
            "Epoch [19/80],  train_epoch_Loss: 0.6165, val_epoch_loss: 0.6197, train_accuracy: 0.7846, val_accuracy: 0.7842\n",
            "Epoch [20/80],  train_epoch_Loss: 0.6025, val_epoch_loss: 0.6050, train_accuracy: 0.7874, val_accuracy: 0.7824\n",
            "Epoch [21/80],  train_epoch_Loss: 0.5156, val_epoch_loss: 0.5439, train_accuracy: 0.8203, val_accuracy: 0.8090\n",
            "Epoch [22/80],  train_epoch_Loss: 0.5002, val_epoch_loss: 0.5344, train_accuracy: 0.8258, val_accuracy: 0.8146\n",
            "Epoch [23/80],  train_epoch_Loss: 0.4865, val_epoch_loss: 0.5527, train_accuracy: 0.8287, val_accuracy: 0.8042\n",
            "Epoch [24/80],  train_epoch_Loss: 0.4826, val_epoch_loss: 0.5137, train_accuracy: 0.8297, val_accuracy: 0.8214\n",
            "Epoch [25/80],  train_epoch_Loss: 0.4726, val_epoch_loss: 0.5127, train_accuracy: 0.8344, val_accuracy: 0.8256\n",
            "Epoch [26/80],  train_epoch_Loss: 0.4616, val_epoch_loss: 0.5167, train_accuracy: 0.8399, val_accuracy: 0.8180\n",
            "Epoch [27/80],  train_epoch_Loss: 0.4558, val_epoch_loss: 0.5198, train_accuracy: 0.8390, val_accuracy: 0.8240\n",
            "Epoch [28/80],  train_epoch_Loss: 0.4474, val_epoch_loss: 0.5287, train_accuracy: 0.8422, val_accuracy: 0.8204\n",
            "Epoch [29/80],  train_epoch_Loss: 0.4377, val_epoch_loss: 0.5261, train_accuracy: 0.8463, val_accuracy: 0.8210\n",
            "Epoch [30/80],  train_epoch_Loss: 0.4373, val_epoch_loss: 0.5126, train_accuracy: 0.8468, val_accuracy: 0.8250\n",
            "Epoch [31/80],  train_epoch_Loss: 0.4317, val_epoch_loss: 0.5325, train_accuracy: 0.8472, val_accuracy: 0.8206\n",
            "Epoch [32/80],  train_epoch_Loss: 0.4239, val_epoch_loss: 0.5147, train_accuracy: 0.8509, val_accuracy: 0.8206\n",
            "Epoch [33/80],  train_epoch_Loss: 0.4204, val_epoch_loss: 0.5145, train_accuracy: 0.8528, val_accuracy: 0.8272\n",
            "Epoch [34/80],  train_epoch_Loss: 0.4180, val_epoch_loss: 0.5085, train_accuracy: 0.8525, val_accuracy: 0.8308\n",
            "Epoch [35/80],  train_epoch_Loss: 0.4100, val_epoch_loss: 0.5098, train_accuracy: 0.8554, val_accuracy: 0.8270\n",
            "Epoch [36/80],  train_epoch_Loss: 0.4029, val_epoch_loss: 0.5063, train_accuracy: 0.8571, val_accuracy: 0.8272\n",
            "Epoch [37/80],  train_epoch_Loss: 0.3979, val_epoch_loss: 0.5035, train_accuracy: 0.8595, val_accuracy: 0.8256\n",
            "Epoch [38/80],  train_epoch_Loss: 0.3947, val_epoch_loss: 0.4920, train_accuracy: 0.8601, val_accuracy: 0.8278\n",
            "Epoch [39/80],  train_epoch_Loss: 0.3872, val_epoch_loss: 0.4956, train_accuracy: 0.8633, val_accuracy: 0.8296\n",
            "Epoch [40/80],  train_epoch_Loss: 0.3835, val_epoch_loss: 0.4949, train_accuracy: 0.8651, val_accuracy: 0.8304\n",
            "Epoch [41/80],  train_epoch_Loss: 0.3498, val_epoch_loss: 0.4896, train_accuracy: 0.8756, val_accuracy: 0.8408\n",
            "Epoch [42/80],  train_epoch_Loss: 0.3405, val_epoch_loss: 0.4756, train_accuracy: 0.8811, val_accuracy: 0.8348\n",
            "Epoch [43/80],  train_epoch_Loss: 0.3390, val_epoch_loss: 0.4791, train_accuracy: 0.8804, val_accuracy: 0.8376\n",
            "Epoch [44/80],  train_epoch_Loss: 0.3359, val_epoch_loss: 0.4842, train_accuracy: 0.8788, val_accuracy: 0.8418\n",
            "Epoch [45/80],  train_epoch_Loss: 0.3354, val_epoch_loss: 0.4803, train_accuracy: 0.8811, val_accuracy: 0.8400\n",
            "Epoch [46/80],  train_epoch_Loss: 0.3293, val_epoch_loss: 0.4645, train_accuracy: 0.8829, val_accuracy: 0.8418\n",
            "Epoch [47/80],  train_epoch_Loss: 0.3216, val_epoch_loss: 0.4959, train_accuracy: 0.8867, val_accuracy: 0.8366\n",
            "Epoch [48/80],  train_epoch_Loss: 0.3296, val_epoch_loss: 0.4951, train_accuracy: 0.8827, val_accuracy: 0.8348\n",
            "Epoch [49/80],  train_epoch_Loss: 0.3213, val_epoch_loss: 0.4735, train_accuracy: 0.8852, val_accuracy: 0.8434\n",
            "Epoch [50/80],  train_epoch_Loss: 0.3191, val_epoch_loss: 0.4901, train_accuracy: 0.8864, val_accuracy: 0.8366\n",
            "Epoch [51/80],  train_epoch_Loss: 0.3208, val_epoch_loss: 0.4718, train_accuracy: 0.8856, val_accuracy: 0.8410\n",
            "Epoch [52/80],  train_epoch_Loss: 0.3182, val_epoch_loss: 0.4858, train_accuracy: 0.8848, val_accuracy: 0.8408\n",
            "Epoch [53/80],  train_epoch_Loss: 0.3132, val_epoch_loss: 0.4821, train_accuracy: 0.8887, val_accuracy: 0.8384\n",
            "Epoch [54/80],  train_epoch_Loss: 0.3141, val_epoch_loss: 0.4735, train_accuracy: 0.8885, val_accuracy: 0.8458\n",
            "Epoch [55/80],  train_epoch_Loss: 0.3103, val_epoch_loss: 0.4791, train_accuracy: 0.8898, val_accuracy: 0.8414\n",
            "Epoch [56/80],  train_epoch_Loss: 0.3115, val_epoch_loss: 0.4798, train_accuracy: 0.8902, val_accuracy: 0.8432\n",
            "Epoch [57/80],  train_epoch_Loss: 0.3083, val_epoch_loss: 0.4750, train_accuracy: 0.8910, val_accuracy: 0.8462\n",
            "Epoch [58/80],  train_epoch_Loss: 0.3055, val_epoch_loss: 0.4833, train_accuracy: 0.8923, val_accuracy: 0.8438\n",
            "Epoch [59/80],  train_epoch_Loss: 0.2999, val_epoch_loss: 0.4795, train_accuracy: 0.8937, val_accuracy: 0.8470\n",
            "Epoch [60/80],  train_epoch_Loss: 0.3011, val_epoch_loss: 0.4805, train_accuracy: 0.8925, val_accuracy: 0.8466\n",
            "Epoch [61/80],  train_epoch_Loss: 0.2878, val_epoch_loss: 0.4746, train_accuracy: 0.8976, val_accuracy: 0.8474\n",
            "Epoch [62/80],  train_epoch_Loss: 0.2857, val_epoch_loss: 0.4702, train_accuracy: 0.8983, val_accuracy: 0.8482\n",
            "Epoch [63/80],  train_epoch_Loss: 0.2879, val_epoch_loss: 0.4773, train_accuracy: 0.8977, val_accuracy: 0.8514\n",
            "Epoch [64/80],  train_epoch_Loss: 0.2836, val_epoch_loss: 0.4633, train_accuracy: 0.9000, val_accuracy: 0.8520\n",
            "Epoch [65/80],  train_epoch_Loss: 0.2859, val_epoch_loss: 0.4712, train_accuracy: 0.8971, val_accuracy: 0.8500\n",
            "Epoch [66/80],  train_epoch_Loss: 0.2842, val_epoch_loss: 0.4692, train_accuracy: 0.8987, val_accuracy: 0.8446\n",
            "Epoch [67/80],  train_epoch_Loss: 0.2806, val_epoch_loss: 0.4742, train_accuracy: 0.8997, val_accuracy: 0.8522\n",
            "Epoch [68/80],  train_epoch_Loss: 0.2841, val_epoch_loss: 0.4775, train_accuracy: 0.8989, val_accuracy: 0.8442\n",
            "Epoch [69/80],  train_epoch_Loss: 0.2816, val_epoch_loss: 0.4700, train_accuracy: 0.9014, val_accuracy: 0.8470\n",
            "Epoch [70/80],  train_epoch_Loss: 0.2788, val_epoch_loss: 0.4818, train_accuracy: 0.9007, val_accuracy: 0.8456\n",
            "Epoch [71/80],  train_epoch_Loss: 0.2781, val_epoch_loss: 0.4702, train_accuracy: 0.9001, val_accuracy: 0.8476\n",
            "Epoch [72/80],  train_epoch_Loss: 0.2773, val_epoch_loss: 0.4710, train_accuracy: 0.9008, val_accuracy: 0.8530\n",
            "Epoch [73/80],  train_epoch_Loss: 0.2770, val_epoch_loss: 0.4674, train_accuracy: 0.9004, val_accuracy: 0.8472\n",
            "Epoch [74/80],  train_epoch_Loss: 0.2751, val_epoch_loss: 0.4820, train_accuracy: 0.9021, val_accuracy: 0.8416\n",
            "Epoch [75/80],  train_epoch_Loss: 0.2747, val_epoch_loss: 0.4928, train_accuracy: 0.9025, val_accuracy: 0.8504\n",
            "Epoch [76/80],  train_epoch_Loss: 0.2747, val_epoch_loss: 0.4772, train_accuracy: 0.9015, val_accuracy: 0.8474\n",
            "Epoch [77/80],  train_epoch_Loss: 0.2774, val_epoch_loss: 0.4707, train_accuracy: 0.9032, val_accuracy: 0.8490\n",
            "Epoch [78/80],  train_epoch_Loss: 0.2731, val_epoch_loss: 0.4803, train_accuracy: 0.9025, val_accuracy: 0.8452\n",
            "Epoch [79/80],  train_epoch_Loss: 0.2713, val_epoch_loss: 0.4691, train_accuracy: 0.9038, val_accuracy: 0.8464\n",
            "Epoch [80/80],  train_epoch_Loss: 0.2707, val_epoch_loss: 0.4833, train_accuracy: 0.9035, val_accuracy: 0.8478\n"
          ]
        }
      ],
      "source": [
        "total_step = len(train_loader)\n",
        "current_lr = learning_rate\n",
        "train_costs,val_costs=[],[]\n",
        "train_acc,val_acc=[],[]\n",
        "for epoch in range(epochs):\n",
        "    train_correct=0\n",
        "    train_running_loss=0\n",
        "    for i, (images, labels) in enumerate(train_loader):\n",
        "        images = images.to(device)\n",
        "        labels = labels.to(device)\n",
        "\n",
        "        # Forward pass\n",
        "        outputs = model(images)\n",
        "        loss = criterion(outputs, labels)\n",
        "\n",
        "        # Backward and optimize\n",
        "        optimizer.zero_grad()\n",
        "        loss.backward()\n",
        "        optimizer.step()\n",
        "\n",
        "\n",
        "        _, predicted = torch.max(outputs.data, 1)\n",
        "        train_correct += (predicted==labels).float().sum().item()\n",
        "        train_running_loss +=(loss.data.item()*images.shape[0])\n",
        "\n",
        "     # Decay learning rate\n",
        "    if (epoch+1) % 20 == 0:\n",
        "        current_lr /= 3\n",
        "        update_lr(optimizer, current_lr)\n",
        "      \n",
        "\n",
        "    train_epoch_loss= train_running_loss/len(train_dataset)\n",
        "    train_costs.append(train_epoch_loss)\n",
        "    train_accuracy=train_correct/len(train_dataset)\n",
        "    train_acc.append(train_accuracy)\n",
        "\n",
        "    val_correct=0\n",
        "    val_running_loss=0\n",
        "    model.eval()\n",
        "    with torch.no_grad():\n",
        "        for i, (images, labels) in enumerate(val_loader):\n",
        "          images = images.to(device)\n",
        "          labels = labels.to(device)\n",
        "\n",
        "        # Forward pass\n",
        "          outputs = model(images)\n",
        "          loss = criterion(outputs, labels)\n",
        "\n",
        "\n",
        "          _, predicted = torch.max(outputs.data, 1)\n",
        "          val_correct += (predicted==labels).float().sum().item()\n",
        "          val_running_loss +=(loss.data.item()*images.shape[0])\n",
        "\n",
        "   \n",
        "\n",
        "        val_epoch_loss= val_running_loss/len(val_dataset)\n",
        "        val_costs.append(val_epoch_loss)\n",
        "        val_accuracy=val_correct/len(val_dataset)\n",
        "        val_acc.append(val_accuracy)\n",
        "\n",
        "\n",
        "\n",
        "\n",
        "    \n",
        "    print (\"Epoch [{}/{}],  train_epoch_Loss: {:.4f}, val_epoch_loss: {:.4f}, train_accuracy: {:.4f}, val_accuracy: {:.4f}\".format(epoch+1, epochs, train_epoch_loss,val_epoch_loss,train_accuracy,val_accuracy ))\n",
        "\n",
        "    "
      ]
    },
    {
      "cell_type": "code",
      "execution_count": 39,
      "metadata": {
        "id": "E_o1b4D_XD1m"
      },
      "outputs": [],
      "source": [
        "torch.save(model.state_dict(), 'resnet.ckpt')"
      ]
    },
    {
      "cell_type": "code",
      "execution_count": 40,
      "metadata": {
        "id": "sMLIzctCCGy5",
        "colab": {
          "base_uri": "https://localhost:8080/",
          "height": 350
        },
        "outputId": "3026467c-c288-4965-a0b0-aea598743bc1"
      },
      "outputs": [
        {
          "output_type": "display_data",
          "data": {
            "text/plain": [
              "<Figure size 720x360 with 1 Axes>"
            ],
            "image/png": "[encoded data removed]"
          },
          "metadata": {
            "needs_background": "light"
          }
        }
      ],
      "source": [
        "plt.figure(figsize=(10,5))\n",
        "plt.title(\"Training and Validation Loss\")\n",
        "plt.plot(val_costs,label=\"val\")\n",
        "plt.plot(train_costs,label=\"train\")\n",
        "plt.xlabel(\"iterations\")\n",
        "plt.ylabel(\"Loss\")\n",
        "plt.legend()\n",
        "plt.show()"
      ]
    },
    {
      "cell_type": "code",
      "source": [
        "plt.figure(figsize=(10,5))\n",
        "plt.title(\"Training and Validation accuracy\")\n",
        "plt.plot(val_acc,label=\"val\")\n",
        "plt.plot(train_acc,label=\"train\")\n",
        "plt.xlabel(\"iterations\")\n",
        "plt.ylabel(\"Accuracy\")\n",
        "plt.legend()\n",
        "plt.show()"
      ],
      "metadata": {
        "colab": {
          "base_uri": "https://localhost:8080/",
          "height": 350
        },
        "id": "59GKUnZTFcun",
        "outputId": "67b11655-8b1c-4039-f1e4-5452020ceea2"
      },
      "execution_count": 41,
      "outputs": [
        {
          "output_type": "display_data",
          "data": {
            "text/plain": [
              "<Figure size 720x360 with 1 Axes>"
            ],
            "image/png": "[encoded data removed]"
          },
          "metadata": {
            "needs_background": "light"
          }
        }
      ]
    },
    {
      "cell_type": "markdown",
      "source": [
        "##Testing the model"
      ],
      "metadata": {
        "id": "U2nyT-YespCn"
      }
    },
    {
      "cell_type": "code",
      "execution_count": 42,
      "metadata": {
        "id": "neDVD2dFxomv",
        "colab": {
          "base_uri": "https://localhost:8080/"
        },
        "outputId": "274c3eeb-dc33-44b5-d799-9c407fee0ce1"
      },
      "outputs": [
        {
          "output_type": "stream",
          "name": "stdout",
          "text": [
            "Accuracy of the model on the test images: 83.8 %\n"
          ]
        }
      ],
      "source": [
        "model.eval()\n",
        "with torch.no_grad():\n",
        "    correct = 0\n",
        "    total = 0\n",
        "    for images, labels in test_loader:\n",
        "        images = images.to(device)\n",
        "        labels = labels.to(device)\n",
        "        outputs = model(images)\n",
        "        _, predicted = torch.max(outputs.data, 1)\n",
        "        total += labels.size(0)\n",
        "        correct += (predicted == labels).sum().item()\n",
        "    print('Accuracy of the model on the test images: {} %'.format(100 * correct / total))"
      ]
    }
  ],
  "metadata": {
    "accelerator": "GPU",
    "colab": {
      "provenance": []
    },
    "kernelspec": {
      "display_name": "Python 3",
      "name": "python3"
    },
    "language_info": {
      "name": "python"
    }
  },
  "nbformat": 4,
  "nbformat_minor": 0
}